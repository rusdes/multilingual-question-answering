{
 "cells": [
  {
   "cell_type": "markdown",
   "id": "9f1bb870",
   "metadata": {
    "papermill": {
     "duration": 0.026322,
     "end_time": "2021-09-07T14:37:34.288039",
     "exception": false,
     "start_time": "2021-09-07T14:37:34.261717",
     "status": "completed"
    },
    "tags": []
   },
   "source": [
    "# ChAII - Exploratory Data Analysis"
   ]
  },
  {
   "cell_type": "code",
   "execution_count": 1,
   "id": "32d269d5",
   "metadata": {
    "execution": {
     "iopub.execute_input": "2021-09-07T14:37:34.350137Z",
     "iopub.status.busy": "2021-09-07T14:37:34.349599Z",
     "iopub.status.idle": "2021-09-07T14:37:43.878556Z",
     "shell.execute_reply": "2021-09-07T14:37:43.877542Z",
     "shell.execute_reply.started": "2021-09-07T13:42:36.929486Z"
    },
    "papermill": {
     "duration": 9.565547,
     "end_time": "2021-09-07T14:37:43.878725",
     "exception": false,
     "start_time": "2021-09-07T14:37:34.313178",
     "status": "completed"
    },
    "tags": []
   },
   "outputs": [
    {
     "name": "stdout",
     "output_type": "stream",
     "text": [
      "Collecting datasets\r\n",
      "  Downloading datasets-1.11.0-py3-none-any.whl (264 kB)\r\n",
      "\u001b[K     |████████████████████████████████| 264 kB 593 kB/s \r\n",
      "\u001b[?25hRequirement already satisfied: requests>=2.19.0 in /opt/conda/lib/python3.7/site-packages (from datasets) (2.25.1)\r\n",
      "Requirement already satisfied: pandas in /opt/conda/lib/python3.7/site-packages (from datasets) (1.2.4)\r\n",
      "Requirement already satisfied: packaging in /opt/conda/lib/python3.7/site-packages (from datasets) (20.9)\r\n",
      "Requirement already satisfied: pyarrow!=4.0.0,>=1.0.0 in /opt/conda/lib/python3.7/site-packages (from datasets) (1.0.1)\r\n",
      "Requirement already satisfied: numpy>=1.17 in /opt/conda/lib/python3.7/site-packages (from datasets) (1.19.5)\r\n",
      "Requirement already satisfied: importlib-metadata in /opt/conda/lib/python3.7/site-packages (from datasets) (3.4.0)\r\n",
      "Requirement already satisfied: huggingface-hub<0.1.0 in /opt/conda/lib/python3.7/site-packages (from datasets) (0.0.8)\r\n",
      "Requirement already satisfied: multiprocess in /opt/conda/lib/python3.7/site-packages (from datasets) (0.70.12.2)\r\n",
      "Requirement already satisfied: dill in /opt/conda/lib/python3.7/site-packages (from datasets) (0.3.4)\r\n",
      "Requirement already satisfied: fsspec>=2021.05.0 in /opt/conda/lib/python3.7/site-packages (from datasets) (2021.6.1)\r\n",
      "Collecting xxhash\r\n",
      "  Downloading xxhash-2.0.2-cp37-cp37m-manylinux2010_x86_64.whl (243 kB)\r\n",
      "\u001b[K     |████████████████████████████████| 243 kB 7.6 MB/s \r\n",
      "\u001b[?25hRequirement already satisfied: tqdm>=4.42 in /opt/conda/lib/python3.7/site-packages (from datasets) (4.61.1)\r\n",
      "Requirement already satisfied: filelock in /opt/conda/lib/python3.7/site-packages (from huggingface-hub<0.1.0->datasets) (3.0.12)\r\n",
      "Requirement already satisfied: chardet<5,>=3.0.2 in /opt/conda/lib/python3.7/site-packages (from requests>=2.19.0->datasets) (4.0.0)\r\n",
      "Requirement already satisfied: urllib3<1.27,>=1.21.1 in /opt/conda/lib/python3.7/site-packages (from requests>=2.19.0->datasets) (1.26.5)\r\n",
      "Requirement already satisfied: certifi>=2017.4.17 in /opt/conda/lib/python3.7/site-packages (from requests>=2.19.0->datasets) (2021.5.30)\r\n",
      "Requirement already satisfied: idna<3,>=2.5 in /opt/conda/lib/python3.7/site-packages (from requests>=2.19.0->datasets) (2.10)\r\n",
      "Requirement already satisfied: typing-extensions>=3.6.4 in /opt/conda/lib/python3.7/site-packages (from importlib-metadata->datasets) (3.7.4.3)\r\n",
      "Requirement already satisfied: zipp>=0.5 in /opt/conda/lib/python3.7/site-packages (from importlib-metadata->datasets) (3.4.1)\r\n",
      "Requirement already satisfied: pyparsing>=2.0.2 in /opt/conda/lib/python3.7/site-packages (from packaging->datasets) (2.4.7)\r\n",
      "Requirement already satisfied: python-dateutil>=2.7.3 in /opt/conda/lib/python3.7/site-packages (from pandas->datasets) (2.8.1)\r\n",
      "Requirement already satisfied: pytz>=2017.3 in /opt/conda/lib/python3.7/site-packages (from pandas->datasets) (2021.1)\r\n",
      "Requirement already satisfied: six>=1.5 in /opt/conda/lib/python3.7/site-packages (from python-dateutil>=2.7.3->pandas->datasets) (1.15.0)\r\n",
      "Installing collected packages: xxhash, datasets\r\n",
      "Successfully installed datasets-1.11.0 xxhash-2.0.2\r\n",
      "\u001b[33mWARNING: Running pip as root will break packages and permissions. You should install packages reliably by using venv: https://pip.pypa.io/warnings/venv\u001b[0m\r\n"
     ]
    }
   ],
   "source": [
    "import pandas as pd\n",
    "import numpy as np\n",
    "# !pip uninstall fsspec -qq -y\n",
    "!pip install datasets"
   ]
  },
  {
   "cell_type": "code",
   "execution_count": 2,
   "id": "c30f5f22",
   "metadata": {
    "execution": {
     "iopub.execute_input": "2021-09-07T14:37:43.944676Z",
     "iopub.status.busy": "2021-09-07T14:37:43.944133Z",
     "iopub.status.idle": "2021-09-07T14:37:44.064366Z",
     "shell.execute_reply": "2021-09-07T14:37:44.064762Z",
     "shell.execute_reply.started": "2021-09-07T13:42:55.986133Z"
    },
    "papermill": {
     "duration": 0.155336,
     "end_time": "2021-09-07T14:37:44.064930",
     "exception": false,
     "start_time": "2021-09-07T14:37:43.909594",
     "status": "completed"
    },
    "tags": []
   },
   "outputs": [
    {
     "data": {
      "text/html": [
       "<div>\n",
       "<style scoped>\n",
       "    .dataframe tbody tr th:only-of-type {\n",
       "        vertical-align: middle;\n",
       "    }\n",
       "\n",
       "    .dataframe tbody tr th {\n",
       "        vertical-align: top;\n",
       "    }\n",
       "\n",
       "    .dataframe thead th {\n",
       "        text-align: right;\n",
       "    }\n",
       "</style>\n",
       "<table border=\"1\" class=\"dataframe\">\n",
       "  <thead>\n",
       "    <tr style=\"text-align: right;\">\n",
       "      <th></th>\n",
       "      <th>id</th>\n",
       "      <th>PredictionString</th>\n",
       "    </tr>\n",
       "  </thead>\n",
       "  <tbody>\n",
       "    <tr>\n",
       "      <th>0</th>\n",
       "      <td>22bff3dec</td>\n",
       "      <td>NaN</td>\n",
       "    </tr>\n",
       "  </tbody>\n",
       "</table>\n",
       "</div>"
      ],
      "text/plain": [
       "          id  PredictionString\n",
       "0  22bff3dec               NaN"
      ]
     },
     "execution_count": 2,
     "metadata": {},
     "output_type": "execute_result"
    }
   ],
   "source": [
    "sub = pd.read_csv('../input/chaii-hindi-and-tamil-question-answering/sample_submission.csv')\n",
    "sub.head(1)"
   ]
  },
  {
   "cell_type": "markdown",
   "id": "469e9928",
   "metadata": {
    "papermill": {
     "duration": 0.029746,
     "end_time": "2021-09-07T14:37:44.125007",
     "exception": false,
     "start_time": "2021-09-07T14:37:44.095261",
     "status": "completed"
    },
    "tags": []
   },
   "source": [
    "### What train data do we have available? \n",
    "\n",
    "Looks like the training set is very small: 747 Hindi and 368 Tamil examples. We have the context, question, answer_text and answer_start. So this is in fact a **reading comprehension** task, which means that we have context available and need to find the start and end span in that contexts that answers our question. Typical example of such format is SQUAD. "
   ]
  },
  {
   "cell_type": "code",
   "execution_count": 3,
   "id": "37a7d150",
   "metadata": {
    "execution": {
     "iopub.execute_input": "2021-09-07T14:37:44.188391Z",
     "iopub.status.busy": "2021-09-07T14:37:44.187819Z",
     "iopub.status.idle": "2021-09-07T14:37:45.011251Z",
     "shell.execute_reply": "2021-09-07T14:37:45.011656Z",
     "shell.execute_reply.started": "2021-09-07T13:43:00.143388Z"
    },
    "papermill": {
     "duration": 0.857024,
     "end_time": "2021-09-07T14:37:45.011810",
     "exception": false,
     "start_time": "2021-09-07T14:37:44.154786",
     "status": "completed"
    },
    "tags": []
   },
   "outputs": [
    {
     "data": {
      "text/html": [
       "<div>\n",
       "<style scoped>\n",
       "    .dataframe tbody tr th:only-of-type {\n",
       "        vertical-align: middle;\n",
       "    }\n",
       "\n",
       "    .dataframe tbody tr th {\n",
       "        vertical-align: top;\n",
       "    }\n",
       "\n",
       "    .dataframe thead th {\n",
       "        text-align: right;\n",
       "    }\n",
       "</style>\n",
       "<table border=\"1\" class=\"dataframe\">\n",
       "  <thead>\n",
       "    <tr style=\"text-align: right;\">\n",
       "      <th></th>\n",
       "      <th>id</th>\n",
       "      <th>context</th>\n",
       "      <th>question</th>\n",
       "      <th>answer_text</th>\n",
       "      <th>answer_start</th>\n",
       "      <th>language</th>\n",
       "    </tr>\n",
       "  </thead>\n",
       "  <tbody>\n",
       "    <tr>\n",
       "      <th>0</th>\n",
       "      <td>903deec17</td>\n",
       "      <td>ஒரு சாதாரண வளர்ந்த மனிதனுடைய எலும்புக்கூடு பின...</td>\n",
       "      <td>மனித உடலில் எத்தனை எலும்புகள் உள்ளன?</td>\n",
       "      <td>206</td>\n",
       "      <td>53</td>\n",
       "      <td>tamil</td>\n",
       "    </tr>\n",
       "    <tr>\n",
       "      <th>1</th>\n",
       "      <td>d9841668c</td>\n",
       "      <td>காளிதாசன் (தேவநாகரி: कालिदास) சமஸ்கிருத இலக்கி...</td>\n",
       "      <td>காளிதாசன் எங்கு பிறந்தார்?</td>\n",
       "      <td>காசுமீரில்</td>\n",
       "      <td>2358</td>\n",
       "      <td>tamil</td>\n",
       "    </tr>\n",
       "    <tr>\n",
       "      <th>2</th>\n",
       "      <td>29d154b56</td>\n",
       "      <td>சர் அலெக்ஸாண்டர் ஃபிளெமிங் (Sir Alexander Flem...</td>\n",
       "      <td>பென்சிலின் கண்டுபிடித்தவர் யார்?</td>\n",
       "      <td>சர் அலெக்ஸாண்டர் ஃபிளெமிங்</td>\n",
       "      <td>0</td>\n",
       "      <td>tamil</td>\n",
       "    </tr>\n",
       "    <tr>\n",
       "      <th>3</th>\n",
       "      <td>41660850a</td>\n",
       "      <td>குழந்தையின் அழுகையை  நிறுத்தவும், தூங்க வைக்கவ...</td>\n",
       "      <td>தமிழ்நாட்டில் குழந்தைகளை தூங்க வைக்க பாடும் பா...</td>\n",
       "      <td>தாலாட்டு</td>\n",
       "      <td>68</td>\n",
       "      <td>tamil</td>\n",
       "    </tr>\n",
       "    <tr>\n",
       "      <th>4</th>\n",
       "      <td>b29c82c22</td>\n",
       "      <td>சூரியக் குடும்பம் \\nசூரியக் குடும்பம் (Solar S...</td>\n",
       "      <td>பூமியின் அருகில் உள்ள விண்மீன் எது?</td>\n",
       "      <td>சூரியனும்</td>\n",
       "      <td>585</td>\n",
       "      <td>tamil</td>\n",
       "    </tr>\n",
       "  </tbody>\n",
       "</table>\n",
       "</div>"
      ],
      "text/plain": [
       "          id                                            context  \\\n",
       "0  903deec17  ஒரு சாதாரண வளர்ந்த மனிதனுடைய எலும்புக்கூடு பின...   \n",
       "1  d9841668c  காளிதாசன் (தேவநாகரி: कालिदास) சமஸ்கிருத இலக்கி...   \n",
       "2  29d154b56  சர் அலெக்ஸாண்டர் ஃபிளெமிங் (Sir Alexander Flem...   \n",
       "3  41660850a  குழந்தையின் அழுகையை  நிறுத்தவும், தூங்க வைக்கவ...   \n",
       "4  b29c82c22  சூரியக் குடும்பம் \\nசூரியக் குடும்பம் (Solar S...   \n",
       "\n",
       "                                            question  \\\n",
       "0               மனித உடலில் எத்தனை எலும்புகள் உள்ளன?   \n",
       "1                         காளிதாசன் எங்கு பிறந்தார்?   \n",
       "2                   பென்சிலின் கண்டுபிடித்தவர் யார்?   \n",
       "3  தமிழ்நாட்டில் குழந்தைகளை தூங்க வைக்க பாடும் பா...   \n",
       "4                பூமியின் அருகில் உள்ள விண்மீன் எது?   \n",
       "\n",
       "                  answer_text  answer_start language  \n",
       "0                         206            53    tamil  \n",
       "1                  காசுமீரில்          2358    tamil  \n",
       "2  சர் அலெக்ஸாண்டர் ஃபிளெமிங்             0    tamil  \n",
       "3                    தாலாட்டு            68    tamil  \n",
       "4                   சூரியனும்           585    tamil  "
      ]
     },
     "execution_count": 3,
     "metadata": {},
     "output_type": "execute_result"
    }
   ],
   "source": [
    "train = pd.read_csv('../input/chaii-hindi-and-tamil-question-answering/train.csv')\n",
    "train.head()"
   ]
  },
  {
   "cell_type": "markdown",
   "id": "ef0d1317",
   "metadata": {
    "papermill": {
     "duration": 0.030363,
     "end_time": "2021-09-07T14:37:45.074740",
     "exception": false,
     "start_time": "2021-09-07T14:37:45.044377",
     "status": "completed"
    },
    "tags": []
   },
   "source": [
    "### What about test? \n",
    "\n",
    "In test, we have just 5 examples, and similar columns like in train except that we don't have *answer_text* and *answer_start*. It seems that *answer_text* is what we're trying to predict. "
   ]
  },
  {
   "cell_type": "code",
   "execution_count": 4,
   "id": "548380ca",
   "metadata": {
    "execution": {
     "iopub.execute_input": "2021-09-07T14:37:45.139978Z",
     "iopub.status.busy": "2021-09-07T14:37:45.139420Z",
     "iopub.status.idle": "2021-09-07T14:37:45.159341Z",
     "shell.execute_reply": "2021-09-07T14:37:45.159779Z",
     "shell.execute_reply.started": "2021-09-07T13:43:01.505369Z"
    },
    "papermill": {
     "duration": 0.054814,
     "end_time": "2021-09-07T14:37:45.159943",
     "exception": false,
     "start_time": "2021-09-07T14:37:45.105129",
     "status": "completed"
    },
    "tags": []
   },
   "outputs": [
    {
     "data": {
      "text/html": [
       "<div>\n",
       "<style scoped>\n",
       "    .dataframe tbody tr th:only-of-type {\n",
       "        vertical-align: middle;\n",
       "    }\n",
       "\n",
       "    .dataframe tbody tr th {\n",
       "        vertical-align: top;\n",
       "    }\n",
       "\n",
       "    .dataframe thead th {\n",
       "        text-align: right;\n",
       "    }\n",
       "</style>\n",
       "<table border=\"1\" class=\"dataframe\">\n",
       "  <thead>\n",
       "    <tr style=\"text-align: right;\">\n",
       "      <th></th>\n",
       "      <th>id</th>\n",
       "      <th>context</th>\n",
       "      <th>question</th>\n",
       "      <th>language</th>\n",
       "    </tr>\n",
       "  </thead>\n",
       "  <tbody>\n",
       "    <tr>\n",
       "      <th>0</th>\n",
       "      <td>22bff3dec</td>\n",
       "      <td>ज्वाला गुट्टा (जन्म: 7 सितंबर 1983; वर्धा, महा...</td>\n",
       "      <td>ज्वाला गुट्टा की माँ का नाम क्या है</td>\n",
       "      <td>hindi</td>\n",
       "    </tr>\n",
       "    <tr>\n",
       "      <th>1</th>\n",
       "      <td>282758170</td>\n",
       "      <td>गूगल मानचित्र (Google Maps) (पूर्व में गूगल लो...</td>\n",
       "      <td>गूगल मैप्स कब लॉन्च किया गया था?</td>\n",
       "      <td>hindi</td>\n",
       "    </tr>\n",
       "    <tr>\n",
       "      <th>2</th>\n",
       "      <td>d60987e0e</td>\n",
       "      <td>गुस्ताव रॉबर्ट किरचॉफ़ (१२ मार्च १८२४ - १७ अक्...</td>\n",
       "      <td>गुस्ताव किरचॉफ का जन्म कब हुआ था?</td>\n",
       "      <td>hindi</td>\n",
       "    </tr>\n",
       "    <tr>\n",
       "      <th>3</th>\n",
       "      <td>f99c770dc</td>\n",
       "      <td>அலுமினியம் (ஆங்கிலம்: அலுமினியம்; வட அமெரிக்க ...</td>\n",
       "      <td>அலுமினியத்தின் அணு எண் என்ன?</td>\n",
       "      <td>tamil</td>\n",
       "    </tr>\n",
       "    <tr>\n",
       "      <th>4</th>\n",
       "      <td>40dec1964</td>\n",
       "      <td>கூட்டுறவு இயக்க வரலாறு, இங்கிலாந்து  நாட்டில் ...</td>\n",
       "      <td>இந்தியாவில் பசுமை புரட்சியின் தந்தை என்று கருத...</td>\n",
       "      <td>tamil</td>\n",
       "    </tr>\n",
       "  </tbody>\n",
       "</table>\n",
       "</div>"
      ],
      "text/plain": [
       "          id                                            context  \\\n",
       "0  22bff3dec  ज्वाला गुट्टा (जन्म: 7 सितंबर 1983; वर्धा, महा...   \n",
       "1  282758170  गूगल मानचित्र (Google Maps) (पूर्व में गूगल लो...   \n",
       "2  d60987e0e  गुस्ताव रॉबर्ट किरचॉफ़ (१२ मार्च १८२४ - १७ अक्...   \n",
       "3  f99c770dc  அலுமினியம் (ஆங்கிலம்: அலுமினியம்; வட அமெரிக்க ...   \n",
       "4  40dec1964  கூட்டுறவு இயக்க வரலாறு, இங்கிலாந்து  நாட்டில் ...   \n",
       "\n",
       "                                            question language  \n",
       "0                ज्वाला गुट्टा की माँ का नाम क्या है    hindi  \n",
       "1                   गूगल मैप्स कब लॉन्च किया गया था?    hindi  \n",
       "2                  गुस्ताव किरचॉफ का जन्म कब हुआ था?    hindi  \n",
       "3                       அலுமினியத்தின் அணு எண் என்ன?    tamil  \n",
       "4  இந்தியாவில் பசுமை புரட்சியின் தந்தை என்று கருத...    tamil  "
      ]
     },
     "execution_count": 4,
     "metadata": {},
     "output_type": "execute_result"
    }
   ],
   "source": [
    "test = pd.read_csv('../input/chaii-hindi-and-tamil-question-answering/test.csv')\n",
    "test.head()"
   ]
  },
  {
   "cell_type": "markdown",
   "id": "59a7ebfa",
   "metadata": {
    "papermill": {
     "duration": 0.031743,
     "end_time": "2021-09-07T14:37:45.222579",
     "exception": false,
     "start_time": "2021-09-07T14:37:45.190836",
     "status": "completed"
    },
    "tags": []
   },
   "source": [
    "# Baseline\n",
    "\n",
    "Based on: https://github.com/huggingface/notebooks/blob/master/examples/question_answering.ipynb"
   ]
  },
  {
   "cell_type": "code",
   "execution_count": 5,
   "id": "d4f5880d",
   "metadata": {
    "execution": {
     "iopub.execute_input": "2021-09-07T14:37:45.291502Z",
     "iopub.status.busy": "2021-09-07T14:37:45.290683Z",
     "iopub.status.idle": "2021-09-07T14:37:52.744379Z",
     "shell.execute_reply": "2021-09-07T14:37:52.743804Z",
     "shell.execute_reply.started": "2021-09-07T13:43:07.352162Z"
    },
    "papermill": {
     "duration": 7.490181,
     "end_time": "2021-09-07T14:37:52.744528",
     "exception": false,
     "start_time": "2021-09-07T14:37:45.254347",
     "status": "completed"
    },
    "tags": []
   },
   "outputs": [],
   "source": [
    "import transformers\n",
    "from transformers import AutoTokenizer\n",
    "from datasets import Dataset\n",
    "\n",
    "model_checkpoint = '../input/xlm-roberta-squad2/deepset/xlm-roberta-large-squad2'\n",
    "batch_size = 4\n",
    "\n",
    "tokenizer = AutoTokenizer.from_pretrained(model_checkpoint)\n",
    "pad_on_right = tokenizer.padding_side == \"right\"\n",
    "\n",
    "max_length = 384 # The maximum length of a feature (question and context)\n",
    "doc_stride = 128 # The authorized overlap between two part of the context when splitting it is needed"
   ]
  },
  {
   "cell_type": "code",
   "execution_count": 6,
   "id": "504e59c7",
   "metadata": {
    "execution": {
     "iopub.execute_input": "2021-09-07T14:37:52.812063Z",
     "iopub.status.busy": "2021-09-07T14:37:52.811504Z",
     "iopub.status.idle": "2021-09-07T14:37:52.815359Z",
     "shell.execute_reply": "2021-09-07T14:37:52.814949Z",
     "shell.execute_reply.started": "2021-09-07T13:43:19.003868Z"
    },
    "papermill": {
     "duration": 0.039028,
     "end_time": "2021-09-07T14:37:52.815468",
     "exception": false,
     "start_time": "2021-09-07T14:37:52.776440",
     "status": "completed"
    },
    "tags": []
   },
   "outputs": [],
   "source": [
    "def convert_answers(r):\n",
    "    start = r[0]\n",
    "    text = r[1]\n",
    "    return {\n",
    "        'answer_start': [start],\n",
    "        'text': [text]\n",
    "    }"
   ]
  },
  {
   "cell_type": "code",
   "execution_count": 7,
   "id": "bf266633",
   "metadata": {
    "execution": {
     "iopub.execute_input": "2021-09-07T14:37:52.892778Z",
     "iopub.status.busy": "2021-09-07T14:37:52.891112Z",
     "iopub.status.idle": "2021-09-07T14:37:52.893700Z",
     "shell.execute_reply": "2021-09-07T14:37:52.894146Z",
     "shell.execute_reply.started": "2021-09-07T13:43:20.539990Z"
    },
    "papermill": {
     "duration": 0.047195,
     "end_time": "2021-09-07T14:37:52.894275",
     "exception": false,
     "start_time": "2021-09-07T14:37:52.847080",
     "status": "completed"
    },
    "tags": []
   },
   "outputs": [],
   "source": [
    "def prepare_train_features(examples):\n",
    "    # Some of the questions have lots of whitespace on the left, which is not useful and will make the\n",
    "    # truncation of the context fail (the tokenized question will take a lots of space). So we remove that\n",
    "    # left whitespace\n",
    "    examples[\"question\"] = [q.lstrip() for q in examples[\"question\"]]\n",
    "\n",
    "    # Tokenize our examples with truncation and padding, but keep the overflows using a stride. This results\n",
    "    # in one example possible giving several features when a context is long, each of those features having a\n",
    "    # context that overlaps a bit the context of the previous feature.\n",
    "    tokenized_examples = tokenizer(\n",
    "        examples[\"question\" if pad_on_right else \"context\"],\n",
    "        examples[\"context\" if pad_on_right else \"question\"],\n",
    "        truncation=\"only_second\" if pad_on_right else \"only_first\",\n",
    "        max_length=max_length,\n",
    "        stride=doc_stride,\n",
    "        return_overflowing_tokens=True,\n",
    "        return_offsets_mapping=True,\n",
    "        padding=\"max_length\",\n",
    "    )\n",
    "\n",
    "    # Since one example might give us several features if it has a long context, we need a map from a feature to\n",
    "    # its corresponding example. This key gives us just that.\n",
    "    sample_mapping = tokenized_examples.pop(\"overflow_to_sample_mapping\")\n",
    "    # The offset mappings will give us a map from token to character position in the original context. This will\n",
    "    # help us compute the start_positions and end_positions.\n",
    "    offset_mapping = tokenized_examples.pop(\"offset_mapping\")\n",
    "\n",
    "    # Let's label those examples!\n",
    "    tokenized_examples[\"start_positions\"] = []\n",
    "    tokenized_examples[\"end_positions\"] = []\n",
    "\n",
    "    for i, offsets in enumerate(offset_mapping):\n",
    "        # We will label impossible answers with the index of the CLS token.\n",
    "        input_ids = tokenized_examples[\"input_ids\"][i]\n",
    "        cls_index = input_ids.index(tokenizer.cls_token_id)\n",
    "\n",
    "        # Grab the sequence corresponding to that example (to know what is the context and what is the question).\n",
    "        sequence_ids = tokenized_examples.sequence_ids(i)\n",
    "\n",
    "        # One example can give several spans, this is the index of the example containing this span of text.\n",
    "        sample_index = sample_mapping[i]\n",
    "        answers = examples[\"answers\"][sample_index]\n",
    "        # If no answers are given, set the cls_index as answer.\n",
    "        if len(answers[\"answer_start\"]) == 0:\n",
    "            tokenized_examples[\"start_positions\"].append(cls_index)\n",
    "            tokenized_examples[\"end_positions\"].append(cls_index)\n",
    "        else:\n",
    "            # Start/end character index of the answer in the text.\n",
    "            start_char = answers[\"answer_start\"][0]\n",
    "            end_char = start_char + len(answers[\"text\"][0])\n",
    "\n",
    "            # Start token index of the current span in the text.\n",
    "            token_start_index = 0\n",
    "            while sequence_ids[token_start_index] != (1 if pad_on_right else 0):\n",
    "                token_start_index += 1\n",
    "\n",
    "            # End token index of the current span in the text.\n",
    "            token_end_index = len(input_ids) - 1\n",
    "            while sequence_ids[token_end_index] != (1 if pad_on_right else 0):\n",
    "                token_end_index -= 1\n",
    "\n",
    "            # Detect if the answer is out of the span (in which case this feature is labeled with the CLS index).\n",
    "            if not (offsets[token_start_index][0] <= start_char and offsets[token_end_index][1] >= end_char):\n",
    "                tokenized_examples[\"start_positions\"].append(cls_index)\n",
    "                tokenized_examples[\"end_positions\"].append(cls_index)\n",
    "            else:\n",
    "                # Otherwise move the token_start_index and token_end_index to the two ends of the answer.\n",
    "                # Note: we could go after the last offset if the answer is the last word (edge case).\n",
    "                while token_start_index < len(offsets) and offsets[token_start_index][0] <= start_char:\n",
    "                    token_start_index += 1\n",
    "                tokenized_examples[\"start_positions\"].append(token_start_index - 1)\n",
    "                while offsets[token_end_index][1] >= end_char:\n",
    "                    token_end_index -= 1\n",
    "                tokenized_examples[\"end_positions\"].append(token_end_index + 1)\n",
    "\n",
    "    return tokenized_examples"
   ]
  },
  {
   "cell_type": "code",
   "execution_count": 8,
   "id": "bd78ecea",
   "metadata": {
    "execution": {
     "iopub.execute_input": "2021-09-07T14:37:52.966955Z",
     "iopub.status.busy": "2021-09-07T14:37:52.965628Z",
     "iopub.status.idle": "2021-09-07T14:37:52.967895Z",
     "shell.execute_reply": "2021-09-07T14:37:52.968379Z",
     "shell.execute_reply.started": "2021-09-07T13:43:22.309369Z"
    },
    "papermill": {
     "duration": 0.042566,
     "end_time": "2021-09-07T14:37:52.968503",
     "exception": false,
     "start_time": "2021-09-07T14:37:52.925937",
     "status": "completed"
    },
    "tags": []
   },
   "outputs": [],
   "source": [
    "def prepare_validation_features(examples):\n",
    "    # Some of the questions have lots of whitespace on the left, which is not useful and will make the\n",
    "    # truncation of the context fail (the tokenized question will take a lots of space). So we remove that\n",
    "    # left whitespace\n",
    "    examples[\"question\"] = [q.lstrip() for q in examples[\"question\"]]\n",
    "\n",
    "    # Tokenize our examples with truncation and maybe padding, but keep the overflows using a stride. This results\n",
    "    # in one example possible giving several features when a context is long, each of those features having a\n",
    "    # context that overlaps a bit the context of the previous feature.\n",
    "    tokenized_examples = tokenizer(\n",
    "        examples[\"question\" if pad_on_right else \"context\"],\n",
    "        examples[\"context\" if pad_on_right else \"question\"],\n",
    "        truncation=\"only_second\" if pad_on_right else \"only_first\",\n",
    "        max_length=max_length,\n",
    "        stride=doc_stride,\n",
    "        return_overflowing_tokens=True,\n",
    "        return_offsets_mapping=True,\n",
    "        padding=\"max_length\",\n",
    "    )\n",
    "\n",
    "    # Since one example might give us several features if it has a long context, we need a map from a feature to\n",
    "    # its corresponding example. This key gives us just that.\n",
    "    sample_mapping = tokenized_examples.pop(\"overflow_to_sample_mapping\")\n",
    "\n",
    "    # We keep the example_id that gave us this feature and we will store the offset mappings.\n",
    "    tokenized_examples[\"example_id\"] = []\n",
    "\n",
    "    for i in range(len(tokenized_examples[\"input_ids\"])):\n",
    "        # Grab the sequence corresponding to that example (to know what is the context and what is the question).\n",
    "        sequence_ids = tokenized_examples.sequence_ids(i)\n",
    "        context_index = 1 if pad_on_right else 0\n",
    "\n",
    "        # One example can give several spans, this is the index of the example containing this span of text.\n",
    "        sample_index = sample_mapping[i]\n",
    "        tokenized_examples[\"example_id\"].append(examples[\"id\"][sample_index])\n",
    "\n",
    "        # Set to None the offset_mapping that are not part of the context so it's easy to determine if a token\n",
    "        # position is part of the context or not.\n",
    "        tokenized_examples[\"offset_mapping\"][i] = [\n",
    "            (o if sequence_ids[k] == context_index else None)\n",
    "            for k, o in enumerate(tokenized_examples[\"offset_mapping\"][i])\n",
    "        ]\n",
    "\n",
    "    return tokenized_examples"
   ]
  },
  {
   "cell_type": "code",
   "execution_count": 9,
   "id": "b01bbb2c",
   "metadata": {
    "execution": {
     "iopub.execute_input": "2021-09-07T14:37:53.036593Z",
     "iopub.status.busy": "2021-09-07T14:37:53.035923Z",
     "iopub.status.idle": "2021-09-07T14:38:27.226190Z",
     "shell.execute_reply": "2021-09-07T14:38:27.225674Z",
     "shell.execute_reply.started": "2021-09-07T13:44:40.668016Z"
    },
    "papermill": {
     "duration": 34.226997,
     "end_time": "2021-09-07T14:38:27.226329",
     "exception": false,
     "start_time": "2021-09-07T14:37:52.999332",
     "status": "completed"
    },
    "tags": []
   },
   "outputs": [
    {
     "name": "stderr",
     "output_type": "stream",
     "text": [
      "Token indices sequence length is longer than the specified maximum sequence length for this model (1492 > 512). Running this sequence through the model will result in indexing errors\n"
     ]
    }
   ],
   "source": [
    "train['num_tokens_context'] = train['context'].apply(lambda t: len(tokenizer(t)['input_ids']))\n",
    "train['answers'] = train[['answer_start', 'answer_text']].apply(convert_answers, axis=1)"
   ]
  },
  {
   "cell_type": "code",
   "execution_count": 10,
   "id": "7451a70b",
   "metadata": {
    "execution": {
     "iopub.execute_input": "2021-09-07T14:38:27.308563Z",
     "iopub.status.busy": "2021-09-07T14:38:27.307772Z",
     "iopub.status.idle": "2021-09-07T14:38:27.311427Z",
     "shell.execute_reply": "2021-09-07T14:38:27.311017Z",
     "shell.execute_reply.started": "2021-09-07T13:49:59.961556Z"
    },
    "papermill": {
     "duration": 0.053349,
     "end_time": "2021-09-07T14:38:27.311533",
     "exception": false,
     "start_time": "2021-09-07T14:38:27.258184",
     "status": "completed"
    },
    "tags": []
   },
   "outputs": [
    {
     "data": {
      "text/html": [
       "<div>\n",
       "<style scoped>\n",
       "    .dataframe tbody tr th:only-of-type {\n",
       "        vertical-align: middle;\n",
       "    }\n",
       "\n",
       "    .dataframe tbody tr th {\n",
       "        vertical-align: top;\n",
       "    }\n",
       "\n",
       "    .dataframe thead th {\n",
       "        text-align: right;\n",
       "    }\n",
       "</style>\n",
       "<table border=\"1\" class=\"dataframe\">\n",
       "  <thead>\n",
       "    <tr style=\"text-align: right;\">\n",
       "      <th></th>\n",
       "      <th>id</th>\n",
       "      <th>context</th>\n",
       "      <th>question</th>\n",
       "      <th>language</th>\n",
       "      <th>num_tokens_context</th>\n",
       "      <th>answers</th>\n",
       "    </tr>\n",
       "  </thead>\n",
       "  <tbody>\n",
       "    <tr>\n",
       "      <th>0</th>\n",
       "      <td>903deec17</td>\n",
       "      <td>ஒரு சாதாரண வளர்ந்த மனிதனுடைய எலும்புக்கூடு பின...</td>\n",
       "      <td>மனித உடலில் எத்தனை எலும்புகள் உள்ளன?</td>\n",
       "      <td>tamil</td>\n",
       "      <td>1492</td>\n",
       "      <td>{'answer_start': [53], 'text': ['206']}</td>\n",
       "    </tr>\n",
       "    <tr>\n",
       "      <th>1</th>\n",
       "      <td>d9841668c</td>\n",
       "      <td>காளிதாசன் (தேவநாகரி: कालिदास) சமஸ்கிருத இலக்கி...</td>\n",
       "      <td>காளிதாசன் எங்கு பிறந்தார்?</td>\n",
       "      <td>tamil</td>\n",
       "      <td>2316</td>\n",
       "      <td>{'answer_start': [2358], 'text': ['காசுமீரில்']}</td>\n",
       "    </tr>\n",
       "    <tr>\n",
       "      <th>2</th>\n",
       "      <td>29d154b56</td>\n",
       "      <td>சர் அலெக்ஸாண்டர் ஃபிளெமிங் (Sir Alexander Flem...</td>\n",
       "      <td>பென்சிலின் கண்டுபிடித்தவர் யார்?</td>\n",
       "      <td>tamil</td>\n",
       "      <td>1470</td>\n",
       "      <td>{'answer_start': [0], 'text': ['சர் அலெக்ஸாண்ட...</td>\n",
       "    </tr>\n",
       "    <tr>\n",
       "      <th>3</th>\n",
       "      <td>41660850a</td>\n",
       "      <td>குழந்தையின் அழுகையை  நிறுத்தவும், தூங்க வைக்கவ...</td>\n",
       "      <td>தமிழ்நாட்டில் குழந்தைகளை தூங்க வைக்க பாடும் பா...</td>\n",
       "      <td>tamil</td>\n",
       "      <td>2715</td>\n",
       "      <td>{'answer_start': [68], 'text': ['தாலாட்டு']}</td>\n",
       "    </tr>\n",
       "    <tr>\n",
       "      <th>4</th>\n",
       "      <td>b29c82c22</td>\n",
       "      <td>சூரியக் குடும்பம் \\nசூரியக் குடும்பம் (Solar S...</td>\n",
       "      <td>பூமியின் அருகில் உள்ள விண்மீன் எது?</td>\n",
       "      <td>tamil</td>\n",
       "      <td>2821</td>\n",
       "      <td>{'answer_start': [585], 'text': ['சூரியனும்']}</td>\n",
       "    </tr>\n",
       "  </tbody>\n",
       "</table>\n",
       "</div>"
      ],
      "text/plain": [
       "          id                                            context  \\\n",
       "0  903deec17  ஒரு சாதாரண வளர்ந்த மனிதனுடைய எலும்புக்கூடு பின...   \n",
       "1  d9841668c  காளிதாசன் (தேவநாகரி: कालिदास) சமஸ்கிருத இலக்கி...   \n",
       "2  29d154b56  சர் அலெக்ஸாண்டர் ஃபிளெமிங் (Sir Alexander Flem...   \n",
       "3  41660850a  குழந்தையின் அழுகையை  நிறுத்தவும், தூங்க வைக்கவ...   \n",
       "4  b29c82c22  சூரியக் குடும்பம் \\nசூரியக் குடும்பம் (Solar S...   \n",
       "\n",
       "                                            question language  \\\n",
       "0               மனித உடலில் எத்தனை எலும்புகள் உள்ளன?    tamil   \n",
       "1                         காளிதாசன் எங்கு பிறந்தார்?    tamil   \n",
       "2                   பென்சிலின் கண்டுபிடித்தவர் யார்?    tamil   \n",
       "3  தமிழ்நாட்டில் குழந்தைகளை தூங்க வைக்க பாடும் பா...    tamil   \n",
       "4                பூமியின் அருகில் உள்ள விண்மீன் எது?    tamil   \n",
       "\n",
       "   num_tokens_context                                            answers  \n",
       "0                1492            {'answer_start': [53], 'text': ['206']}  \n",
       "1                2316   {'answer_start': [2358], 'text': ['காசுமீரில்']}  \n",
       "2                1470  {'answer_start': [0], 'text': ['சர் அலெக்ஸாண்ட...  \n",
       "3                2715       {'answer_start': [68], 'text': ['தாலாட்டு']}  \n",
       "4                2821     {'answer_start': [585], 'text': ['சூரியனும்']}  "
      ]
     },
     "execution_count": 10,
     "metadata": {},
     "output_type": "execute_result"
    }
   ],
   "source": [
    "train = train.drop(['answer_start', 'answer_text'], axis=1)\n",
    "train.head()"
   ]
  },
  {
   "cell_type": "code",
   "execution_count": 11,
   "id": "40315df1",
   "metadata": {
    "execution": {
     "iopub.execute_input": "2021-09-07T14:38:27.380226Z",
     "iopub.status.busy": "2021-09-07T14:38:27.379417Z",
     "iopub.status.idle": "2021-09-07T14:38:27.386546Z",
     "shell.execute_reply": "2021-09-07T14:38:27.387247Z",
     "shell.execute_reply.started": "2021-09-07T13:54:06.079271Z"
    },
    "papermill": {
     "duration": 0.044516,
     "end_time": "2021-09-07T14:38:27.387405",
     "exception": false,
     "start_time": "2021-09-07T14:38:27.342889",
     "status": "completed"
    },
    "tags": []
   },
   "outputs": [
    {
     "name": "stdout",
     "output_type": "stream",
     "text": [
      "746 368\n"
     ]
    }
   ],
   "source": [
    "train_hindi = train.loc[train['language'] == 'hindi']\n",
    "train_tamil = train.loc[train['language'] == 'tamil']\n",
    "\n",
    "train_hindi = train_hindi.sample(frac=1, random_state=42)\n",
    "train_tamil = train_tamil.sample(frac=1, random_state=42)\n",
    "\n",
    "print(len(train_hindi), len(train_tamil))"
   ]
  },
  {
   "cell_type": "markdown",
   "id": "a8d6088d",
   "metadata": {
    "papermill": {
     "duration": 0.031917,
     "end_time": "2021-09-07T14:38:27.451636",
     "exception": false,
     "start_time": "2021-09-07T14:38:27.419719",
     "status": "completed"
    },
    "tags": []
   },
   "source": [
    "## Hindi"
   ]
  },
  {
   "cell_type": "code",
   "execution_count": 12,
   "id": "8a47bc4a",
   "metadata": {
    "execution": {
     "iopub.execute_input": "2021-09-07T14:38:27.522206Z",
     "iopub.status.busy": "2021-09-07T14:38:27.521477Z",
     "iopub.status.idle": "2021-09-07T14:38:53.487977Z",
     "shell.execute_reply": "2021-09-07T14:38:53.488968Z",
     "shell.execute_reply.started": "2021-09-07T13:58:51.942858Z"
    },
    "papermill": {
     "duration": 26.005001,
     "end_time": "2021-09-07T14:38:53.489190",
     "exception": false,
     "start_time": "2021-09-07T14:38:27.484189",
     "status": "completed"
    },
    "tags": []
   },
   "outputs": [
    {
     "data": {
      "application/vnd.jupyter.widget-view+json": {
       "model_id": "a29ac9fe93414ed3998fc658edbde676",
       "version_major": 2,
       "version_minor": 0
      },
      "text/plain": [
       "  0%|          | 0/1 [00:00<?, ?ba/s]"
      ]
     },
     "metadata": {},
     "output_type": "display_data"
    },
    {
     "data": {
      "application/vnd.jupyter.widget-view+json": {
       "model_id": "8fe0f8c25afe4f779dd94dd497597141",
       "version_major": 2,
       "version_minor": 0
      },
      "text/plain": [
       "  0%|          | 0/1 [00:00<?, ?ba/s]"
      ]
     },
     "metadata": {},
     "output_type": "display_data"
    }
   ],
   "source": [
    "df_train_hindi = train_hindi[:-64].reset_index(drop=True)\n",
    "df_valid_hindi = train_hindi[-64:].reset_index(drop=True)\n",
    "\n",
    "train_dataset_hindi = Dataset.from_pandas(df_train_hindi)\n",
    "valid_dataset_hindi = Dataset.from_pandas(df_valid_hindi)\n",
    "\n",
    "tokenized_train_ds_hindi = train_dataset_hindi.map(prepare_train_features, batched=True, remove_columns=train_dataset_hindi.column_names)\n",
    "tokenized_valid_ds_hindi = valid_dataset_hindi.map(prepare_train_features, batched=True, remove_columns=train_dataset_hindi.column_names)"
   ]
  },
  {
   "cell_type": "code",
   "execution_count": 13,
   "id": "f88692b4",
   "metadata": {
    "execution": {
     "iopub.execute_input": "2021-09-07T14:38:53.576948Z",
     "iopub.status.busy": "2021-09-07T14:38:53.576295Z",
     "iopub.status.idle": "2021-09-07T14:38:53.579005Z",
     "shell.execute_reply": "2021-09-07T14:38:53.579405Z",
     "shell.execute_reply.started": "2021-09-07T14:00:12.804962Z"
    },
    "papermill": {
     "duration": 0.041055,
     "end_time": "2021-09-07T14:38:53.579531",
     "exception": false,
     "start_time": "2021-09-07T14:38:53.538476",
     "status": "completed"
    },
    "tags": []
   },
   "outputs": [
    {
     "data": {
      "text/plain": [
       "{'id': 'b5ef4590a',\n",
       " 'context': 'बुर्ज ख़लीफ़ा दुबई में आठ अरब डॉलर की लागत से छह साल में निर्मित ८२८ मीटर ऊँची १६८ मंज़िला दुनिया की सबसे ऊँची इमारत है (जनवरी, सन् २०१० में)। इसका लोकार्पण ४ जनवरी, २०१० को भव्य उद्घाटन समारोह के साथ किया गया। इसमें तैराकी का स्थान, खरीदारी की व्यवस्था, दफ़्तर, सिनेमा घर सहित सारी सुविधाएँ मौजूद हैं। इसकी ७६ वीं मंजिल पर एक मस्जिद भी बनायी गयी है। इसे ९६ किलोमीटर दूर से भी साफ़-साफ़ देखा जा सकता है। इसमें लगायी गयी लिफ़्ट दुनिया की सबसे तेज़ चलने वाली लिफ़्ट है। “ऐट द टॉप” नामक एक दरवाज़े के बाहर अवलोकन डेक, 124 वीं मंजिल पर, 5 जनवरी 2010 पर खुला। यह 452 मीटर (1,483 फुट) पर, दुनिया में तीसरे सर्वोच्च अवलोकन डेक और दुनिया में दूसरा सबसे बड़ा दरवाज़े के बाहर अवलोकन डेक है।\\nनिर्माण विशेषता सन्दर्भ\\nबाहरी\\xa0कड़ियाँ\\nNo URL found. Please specify a URL here or add one to Wikidata.\\nश्रेणी: गगनचुम्बी इमारतें\\nश्रेणी: सर्वोच्च गगनचुम्बी',\n",
       " 'question': 'बुर्ज खलीफा कहाँ स्थित है?',\n",
       " 'language': 'hindi',\n",
       " 'num_tokens_context': 258,\n",
       " 'answers': {'answer_start': [14], 'text': ['दुबई']}}"
      ]
     },
     "execution_count": 13,
     "metadata": {},
     "output_type": "execute_result"
    }
   ],
   "source": [
    "train_dataset_hindi[0]"
   ]
  },
  {
   "cell_type": "markdown",
   "id": "0cc1f05a",
   "metadata": {
    "papermill": {
     "duration": 0.032326,
     "end_time": "2021-09-07T14:38:53.644475",
     "exception": false,
     "start_time": "2021-09-07T14:38:53.612149",
     "status": "completed"
    },
    "tags": []
   },
   "source": [
    "## Tamil"
   ]
  },
  {
   "cell_type": "code",
   "execution_count": 14,
   "id": "db2ba15a",
   "metadata": {
    "execution": {
     "iopub.execute_input": "2021-09-07T14:38:53.727615Z",
     "iopub.status.busy": "2021-09-07T14:38:53.726838Z",
     "iopub.status.idle": "2021-09-07T14:39:04.141297Z",
     "shell.execute_reply": "2021-09-07T14:39:04.140854Z",
     "shell.execute_reply.started": "2021-09-07T14:00:18.479653Z"
    },
    "papermill": {
     "duration": 10.464344,
     "end_time": "2021-09-07T14:39:04.141419",
     "exception": false,
     "start_time": "2021-09-07T14:38:53.677075",
     "status": "completed"
    },
    "tags": []
   },
   "outputs": [
    {
     "data": {
      "application/vnd.jupyter.widget-view+json": {
       "model_id": "23d58a449ce5423abbb99c77b227f57f",
       "version_major": 2,
       "version_minor": 0
      },
      "text/plain": [
       "  0%|          | 0/1 [00:00<?, ?ba/s]"
      ]
     },
     "metadata": {},
     "output_type": "display_data"
    },
    {
     "data": {
      "application/vnd.jupyter.widget-view+json": {
       "model_id": "ee748f2be05f4ec29e2a99bb8923b07c",
       "version_major": 2,
       "version_minor": 0
      },
      "text/plain": [
       "  0%|          | 0/1 [00:00<?, ?ba/s]"
      ]
     },
     "metadata": {},
     "output_type": "display_data"
    }
   ],
   "source": [
    "df_train_tamil = train_tamil[:-64].reset_index(drop=True)\n",
    "df_valid_tamil = train_tamil[-64:].reset_index(drop=True)\n",
    "\n",
    "train_dataset_tamil = Dataset.from_pandas(df_train_tamil)\n",
    "valid_dataset_tamil = Dataset.from_pandas(df_valid_tamil)\n",
    "\n",
    "tokenized_train_ds_tamil = train_dataset_tamil.map(prepare_train_features, batched=True, remove_columns=train_dataset_tamil.column_names)\n",
    "tokenized_valid_ds_tamil = valid_dataset_tamil.map(prepare_train_features, batched=True, remove_columns=train_dataset_tamil.column_names)"
   ]
  },
  {
   "cell_type": "code",
   "execution_count": 15,
   "id": "a47e47ce",
   "metadata": {
    "execution": {
     "iopub.execute_input": "2021-09-07T14:39:04.214678Z",
     "iopub.status.busy": "2021-09-07T14:39:04.213766Z",
     "iopub.status.idle": "2021-09-07T14:39:04.217153Z",
     "shell.execute_reply": "2021-09-07T14:39:04.217560Z",
     "shell.execute_reply.started": "2021-09-07T14:00:45.729544Z"
    },
    "papermill": {
     "duration": 0.042159,
     "end_time": "2021-09-07T14:39:04.217688",
     "exception": false,
     "start_time": "2021-09-07T14:39:04.175529",
     "status": "completed"
    },
    "tags": []
   },
   "outputs": [
    {
     "data": {
      "text/plain": [
       "{'id': '83f5c039a',\n",
       " 'context': 'மைக்ரோசாப்ட் நிறுவனம்(Microsoft Corporation) அமெரிக்காவை மையமாக கொண்டு செயல் படும் ஓர் பன்னாட்டு மென்பொருள் தொழில்நுட்ப நிறுவனம் ஆகும். இது உலகின் மிகப் பெரிய மென்பொருள் தயாரிப்பு நிறுவனமாக விளங்குகிறது. கணினிக்குத் தேவையான பல வகை மென்பொருட்களை தயாரிப்பது, மேம்படுத்துவது, உரிமை மற்றும் ஆதரவு அளிப்பது போன்ற செயற்பாடுகளை உடையது. வாசிங்டனில் உள்ள ரெட்மாண்ட் நகரத்தில் இதன் தலைமை இடம் உள்ளது. இதனை பில் கேட்சும் பவுல் ஆல்லெனும் ஏப்ரல் 4, 1975இல் நிறுவினர். வருமானத்தின் அளவுகொண்டு உலகின் மிகப்பெரும் மென்பொருள் ஆக்குனராக மைக்ரோசாப்ட் விளங்குகிறது.[4] உலகளவில் பங்குச்சந்தையில் மிகக் கூடுதலான மொத்தமதிப்பைக் கொண்டுள்ள நிறுவனமாகவும் இது விளங்குகிறது.[5]விண்டோஸ் இயக்குதளங்கள், மைக்ரோசாப்ட் ஆபிஸ் ஆகியவை இதன் முக்கிய உற்பத்தி பொருட்கள் ஆகும்.\\nஅல்டைர் 8800விற்கு பேசிக் மொழிமாற்றி மென்பொருளை உருவாக்கி விற்கும் நிறுவனமாக மைக்ரோசாப்ட் முதலில் துவங்கப்பட்டது. பின்னர் எம்.எஸ்.டாஸ் எனும் இயக்குதளத்தை 1980களில் அறிமுகப்படுத்தி தனி மேசைக் கணினி இயக்கு தளம் தயாரிப்பில் முன்னணி வகித்தது. இதனையொட்டி மைக்ரோசாப்ட் விண்டோசு எனும் வரைகலைச் சூழல் இயக்குதளங்களை ஒன்றையடுத்து ஒன்றாக உருவாக்கி விற்பனை செய்தது. இதனால் மைக்ரோசாப்ட், \"ஒவ்வொரு வீட்டிலும் ஒவ்வொரு மேசையிலும் மைக்ரோசாப்ட்டின் மென்பொருள்\" என்ற நிலையை எட்டியது. 1986இல் வெளியிட்ட ஆரம்ப பொது விடுப்புகள் மற்றும் பிந்தைய பங்கு விலை ஏற்றங்கள் காரணமாக மைக்ரோசாப்ட் தனது ஊழியர்களில் மூவரை பில்லியனர்களாகவும் 12000 பேரை மில்லியனர்களாகவும் ஆக்கியது. 1990களிலிருந்து பல நிறுவனங்களை கையகப்படுத்தியும் இணைத்தும் தன்னை இயக்குதள சந்தையிலிருந்து விரிவுபடுத்திக் கொண்டுள்ளது. 2011இல் இசுகைப் தொழில்நுட்ப நிறுவனத்தை $8.5 பில்லியனுக்கு வாங்கியுள்ளது; இதுவரை இதுவே மிகப்பெரும் வாங்குதலாகும்.[6]\\n2013இல் மைக்ரோசாப்ட் தனிமேசைக் கணினி மற்றும் மடிக்கணினி இயக்குதளங்களிலும் அலுவலக திறன்பெருக்கு மென்பொருள் பயன்பாட்டுச் செயலிகளிலும் (குறிப்பாக மைக்ரோசாப்ட் ஆபிஸ் உடன்) முதன்மைநிலையில் உள்ளது. தவிர தனிமேசைக் கணினிகளுக்கும் கணிவழங்கிகளுக்கும் பல்வேறு மென்பொருள் பயன்பாட்டுச் செயலிகளை உருவாக்கி விற்பனை செய்து வருகிறது. மேலும் இணைய தேடுபொறிகள், நிகழ்பட ஆட்டத் தொழிற்துறை ( எக்ஸ் பாக்ஸ் மற்றும் எக்ஸ் பாக்ஸ் 360 வழங்கல்களுடன்), எண்ணிமச் சேவைகள் சந்தை (எம்எஸ்என் மூலமாக), மற்றும் நகர்பேசிகள் (விண்டோஸ் போன் இயக்குதளம் மூலமாக) போன்றவற்றிலும் முதன்மைநிலை எய்த முயன்று வருகிறது. சூன் 2012இல் முதன்முறையாக மைக்ரோசாப்ட் தனிக்கணினி வழங்குனர் சந்தையில் தனது மைக்ரோசாப்ட் சர்பேஸ் கைக் கணினி யுடன் நுழைந்துள்ளது.\\n1990களில் மைக்ரோசாப்ட் முற்றுரிமை வணிகச் செயல்பாடுகளையும் போட்டிக்கெதிரான செய்முறைகளிலும் ஈடுபட்டதாக குற்றம் சாட்டப்பட்டது. தனது மென்பொருளைப் பயன்படுத்த நியாயமற்ற கட்டுப்பாடுகளை கடைபிடித்ததாகவும் தவறான தகவல்களை தனது சந்தைப்படுத்துதல் முயற்சிகளில் பயன்படுத்தியதாகவும் வழக்குகள் போடப்பட்டன. அமெரிக்காவின் நீதித்துறையும் ஐரோப்பியக் குழுமமும் மைக்ரோசாப்ட் சட்டங்களுக்குப் புறம்பாக செயல்பட்டதாக கண்டறிந்தனர்.\\nநிறுவனம் \"மைக்ரோசாப்ட்\" என்ற பெயர் மைக்ரோ கம்ப்யூட்டர் சாப்ட்வேர் என்ற ஆங்கிலச் சொற்களின் இணைப்பாகும். சூலை, 1975இல் பில் கேட்சு பவுல் ஆல்லெனுக்கு எழுதிய கடிதத்தில் முதன்முதலில் \"மைக்ரோ-சாப்ட்\" எனக் குறிப்பிட்டுள்ளார்.[7]. தற்போதைய வடிவம் நவம்பர் 26, 1976 அன்று நியூ மெக்சிகோ மாநிலத்தில் பதியப்பட்டது[8].. நிறுவனத்தின் தலைமையகம் அமெரிக்காவின் வாஷிங்டன் மாநிலத்தில் உள்ள ரெட்மாண்டில் அமைந்துள்ளது. இதனால் மைக்ரோசாப்ட் சில நேரங்களில் ரெட்மாண்ட் நிறுவனம் என்றழைக்கப்படுகிறது.\\nஇந்த நிறுவனத்தின் இயக்கு தளம் விண்டோசு பல பதிப்புகள் வெளியிடப்பட்டு கணினி உலகில் ஓர் சீர்தரமாக விளங்குகிறது. இந்த நிறுவனத்தில் 88,000 ஊழியர்கள் உலகெங்கும் பல நாடுகளில் பணி புரிகின்றனர். சனவரி 14, 2000 முதல் இசுட்டீவ் பால்மர் இதன் தலைவராக பொறுப்பில் உள்ளார்.\\n2014 பிப்ரவரி 4ஆம் தேதி அன்று மைக்ரோசாப்ட் நிறுவனத்தின் முதன்மைச் செயல் அதிகாரியாக சத்ய நாதெல்லா என்பவர் அமர்த்தப்பட்டார். இவர் ஒரு இந்தியர். அதேபோல் மைக்ரோசாப்ட்டின் புதிய தலைவராக ஜான் தாம்சன் தேர்வு செய்யப்பட்டார். இதுவரை தலைவர் பதவி வகித்த பில்கேட்ஸ் இனிமேல் தொழில்நுட்ப ஆலோசகராகச் செயல்படுவார் என்று அந்நிறுவனம் அறிவித்துள்ளது.\\nவரலாறு\\nவணிகச் சின்னத்தின் கூர்ப்பு இசுகாட் பேக்கர் வடிவமைத்த மைக்ரோசாப்ட் \"பாக்-மான்\" சின்னம், 1987 முதல் 2012 வரை பயன்படுத்தப்பட்டது.[9][10]\\n2006–2011இல் மைக்ரோசாப்டின் சின்னம்[10]\\n2011–2012இல் வணிகச்சின்னம்.[11]\\n2012- நடப்பு:ஆகத்து 23, 2012இல் அறிமுகப்படுத்திய சின்னம் \"எண்ணிம இயக்க உலகையும்\" மைக்ரோசாப்டின் \"பல்வேறு பொருட்களின் பட்டியலையும்\" பிரதிபலிக்கிறது.[12]\\nமேற்சான்றுகள் வெளி இணைப்புகள் பகுப்பு:மைக்ரோசாப்ட்\\nபகுப்பு:அமெரிக்க வணிக நிறுவனங்கள்\\nபகுப்பு:நாசுடாக்கில் பட்டியிலடப்பட்டுள்ள நிறுவனங்கள்\\nபகுப்பு:கணினி வன்பொருள் நிறுவனங்கள்',\n",
       " 'question': 'மைக்ரோசாப்ட் நிறுவனம் யாரால் நிறுவப்பட்டது?',\n",
       " 'language': 'tamil',\n",
       " 'num_tokens_context': 1250,\n",
       " 'answers': {'answer_start': [396], 'text': ['பில் கேட்சும் பவுல் ஆல்லெனும்']}}"
      ]
     },
     "execution_count": 15,
     "metadata": {},
     "output_type": "execute_result"
    }
   ],
   "source": [
    "train_dataset_tamil[0]"
   ]
  },
  {
   "cell_type": "markdown",
   "id": "bc46bb78",
   "metadata": {
    "papermill": {
     "duration": 0.033736,
     "end_time": "2021-09-07T14:39:04.286088",
     "exception": false,
     "start_time": "2021-09-07T14:39:04.252352",
     "status": "completed"
    },
    "tags": []
   },
   "source": [
    "## Training"
   ]
  },
  {
   "cell_type": "code",
   "execution_count": 16,
   "id": "a61ace0e",
   "metadata": {
    "execution": {
     "iopub.execute_input": "2021-09-07T14:39:04.357717Z",
     "iopub.status.busy": "2021-09-07T14:39:04.357226Z",
     "iopub.status.idle": "2021-09-07T14:39:05.199025Z",
     "shell.execute_reply": "2021-09-07T14:39:05.198496Z"
    },
    "papermill": {
     "duration": 0.879115,
     "end_time": "2021-09-07T14:39:05.199181",
     "exception": false,
     "start_time": "2021-09-07T14:39:04.320066",
     "status": "completed"
    },
    "tags": []
   },
   "outputs": [],
   "source": [
    "from transformers import AutoModelForQuestionAnswering, TrainingArguments, Trainer\n",
    "from transformers import default_data_collator"
   ]
  },
  {
   "cell_type": "code",
   "execution_count": 17,
   "id": "d1c3c067",
   "metadata": {
    "execution": {
     "iopub.execute_input": "2021-09-07T14:39:05.275382Z",
     "iopub.status.busy": "2021-09-07T14:39:05.274772Z",
     "iopub.status.idle": "2021-09-07T14:39:05.277903Z",
     "shell.execute_reply": "2021-09-07T14:39:05.278468Z"
    },
    "papermill": {
     "duration": 0.042348,
     "end_time": "2021-09-07T14:39:05.278638",
     "exception": false,
     "start_time": "2021-09-07T14:39:05.236290",
     "status": "completed"
    },
    "tags": []
   },
   "outputs": [
    {
     "name": "stdout",
     "output_type": "stream",
     "text": [
      "env: WANDB_DISABLED=True\n"
     ]
    }
   ],
   "source": [
    "# import wandb\n",
    "# wandb.login()\n",
    "# %env WANDB_PROJECT=chaii\n",
    "%env WANDB_DISABLED=True"
   ]
  },
  {
   "cell_type": "markdown",
   "id": "f1426080",
   "metadata": {
    "papermill": {
     "duration": 0.034297,
     "end_time": "2021-09-07T14:39:05.348470",
     "exception": false,
     "start_time": "2021-09-07T14:39:05.314173",
     "status": "completed"
    },
    "tags": []
   },
   "source": [
    "## Tamil Train"
   ]
  },
  {
   "cell_type": "code",
   "execution_count": 18,
   "id": "24e64333",
   "metadata": {
    "execution": {
     "iopub.execute_input": "2021-09-07T14:39:05.422514Z",
     "iopub.status.busy": "2021-09-07T14:39:05.422016Z",
     "iopub.status.idle": "2021-09-07T14:52:03.247701Z",
     "shell.execute_reply": "2021-09-07T14:52:03.248148Z"
    },
    "papermill": {
     "duration": 777.865466,
     "end_time": "2021-09-07T14:52:03.248310",
     "exception": false,
     "start_time": "2021-09-07T14:39:05.382844",
     "status": "completed"
    },
    "tags": []
   },
   "outputs": [
    {
     "name": "stderr",
     "output_type": "stream",
     "text": [
      "Using the `WAND_DISABLED` environment variable is deprecated and will be removed in v5. Use the --report_to flag to control the integrations used for logging result (for instance --report_to none).\n"
     ]
    },
    {
     "data": {
      "text/html": [
       "\n",
       "    <div>\n",
       "      \n",
       "      <progress value='144' max='144' style='width:300px; height:20px; vertical-align: middle;'></progress>\n",
       "      [144/144 12:17, Epoch 0/1]\n",
       "    </div>\n",
       "    <table border=\"1\" class=\"dataframe\">\n",
       "  <thead>\n",
       "    <tr style=\"text-align: left;\">\n",
       "      <th>Epoch</th>\n",
       "      <th>Training Loss</th>\n",
       "      <th>Validation Loss</th>\n",
       "    </tr>\n",
       "  </thead>\n",
       "  <tbody>\n",
       "    <tr>\n",
       "      <td>0</td>\n",
       "      <td>No log</td>\n",
       "      <td>0.322845</td>\n",
       "    </tr>\n",
       "  </tbody>\n",
       "</table><p>"
      ],
      "text/plain": [
       "<IPython.core.display.HTML object>"
      ]
     },
     "metadata": {},
     "output_type": "display_data"
    },
    {
     "data": {
      "text/plain": [
       "TrainOutput(global_step=144, training_loss=0.3162834644317627, metrics={'train_runtime': 741.3881, 'train_samples_per_second': 0.194, 'total_flos': 0, 'epoch': 1.0, 'init_mem_cpu_alloc_delta': 399462400, 'init_mem_gpu_alloc_delta': 2235376640, 'init_mem_cpu_peaked_delta': 1594335232, 'init_mem_gpu_peaked_delta': 0, 'train_mem_cpu_alloc_delta': 90677248, 'train_mem_gpu_alloc_delta': 6733405184, 'train_mem_cpu_peaked_delta': 3076829184, 'train_mem_gpu_peaked_delta': 5504041984})"
      ]
     },
     "execution_count": 18,
     "metadata": {},
     "output_type": "execute_result"
    }
   ],
   "source": [
    "model_checkpoint = '../input/xlm-roberta-squad2/deepset/xlm-roberta-large-squad2'\n",
    "model = AutoModelForQuestionAnswering.from_pretrained(model_checkpoint)\n",
    "data_collator = default_data_collator\n",
    "\n",
    "args = TrainingArguments(\n",
    "    f\"chaii-qa-2\",\n",
    "    evaluation_strategy = \"epoch\",\n",
    "    save_strategy = \"epoch\",\n",
    "    learning_rate=3e-5,\n",
    "    warmup_ratio=0.1,\n",
    "    gradient_accumulation_steps=8,\n",
    "    per_device_train_batch_size=batch_size,\n",
    "    per_device_eval_batch_size=batch_size,\n",
    "    num_train_epochs=1,\n",
    "    weight_decay=0.01,\n",
    "#     report_to=\"wandb\"\n",
    ")\n",
    "\n",
    "trainer = Trainer(\n",
    "    model,\n",
    "    args,\n",
    "    train_dataset=tokenized_train_ds_tamil,\n",
    "    eval_dataset=tokenized_valid_ds_tamil,\n",
    "    data_collator=data_collator,\n",
    "    tokenizer=tokenizer,\n",
    ")\n",
    "\n",
    "\n",
    "trainer.train()\n",
    "# wandb.finish()"
   ]
  },
  {
   "cell_type": "code",
   "execution_count": 19,
   "id": "0cd1948e",
   "metadata": {
    "execution": {
     "iopub.execute_input": "2021-09-07T14:52:05.717621Z",
     "iopub.status.busy": "2021-09-07T14:52:05.716791Z",
     "iopub.status.idle": "2021-09-07T14:52:36.200432Z",
     "shell.execute_reply": "2021-09-07T14:52:36.199933Z"
    },
    "papermill": {
     "duration": 31.808486,
     "end_time": "2021-09-07T14:52:36.200564",
     "exception": false,
     "start_time": "2021-09-07T14:52:04.392078",
     "status": "completed"
    },
    "tags": []
   },
   "outputs": [],
   "source": [
    "trainer.save_model(\"chaii-bert-trained-tamil\")"
   ]
  },
  {
   "cell_type": "markdown",
   "id": "bed9e243",
   "metadata": {
    "papermill": {
     "duration": 0.063582,
     "end_time": "2021-09-07T14:52:37.461019",
     "exception": false,
     "start_time": "2021-09-07T14:52:37.397437",
     "status": "completed"
    },
    "tags": []
   },
   "source": [
    "## Hindi Train"
   ]
  },
  {
   "cell_type": "code",
   "execution_count": 20,
   "id": "bc91b11b",
   "metadata": {
    "execution": {
     "iopub.execute_input": "2021-09-07T14:52:37.646604Z",
     "iopub.status.busy": "2021-09-07T14:52:37.644827Z",
     "iopub.status.idle": "2021-09-07T14:53:05.871131Z",
     "shell.execute_reply": "2021-09-07T14:53:05.870640Z",
     "shell.execute_reply.started": "2021-09-07T14:01:07.519381Z"
    },
    "papermill": {
     "duration": 28.347079,
     "end_time": "2021-09-07T14:53:05.871265",
     "exception": false,
     "start_time": "2021-09-07T14:52:37.524186",
     "status": "completed"
    },
    "tags": []
   },
   "outputs": [],
   "source": [
    "model_checkpoint = '../input/xlm-roberta-squad2/deepset/xlm-roberta-large-squad2'\n",
    "model = AutoModelForQuestionAnswering.from_pretrained(model_checkpoint)\n",
    "data_collator = default_data_collator"
   ]
  },
  {
   "cell_type": "code",
   "execution_count": 21,
   "id": "7af77212",
   "metadata": {
    "execution": {
     "iopub.execute_input": "2021-09-07T14:53:05.969292Z",
     "iopub.status.busy": "2021-09-07T14:53:05.968634Z",
     "iopub.status.idle": "2021-09-07T15:14:21.757744Z",
     "shell.execute_reply": "2021-09-07T15:14:21.756910Z",
     "shell.execute_reply.started": "2021-09-07T14:02:53.149363Z"
    },
    "papermill": {
     "duration": 1275.830393,
     "end_time": "2021-09-07T15:14:21.757996",
     "exception": false,
     "start_time": "2021-09-07T14:53:05.927603",
     "status": "completed"
    },
    "tags": []
   },
   "outputs": [
    {
     "name": "stderr",
     "output_type": "stream",
     "text": [
      "Using the `WAND_DISABLED` environment variable is deprecated and will be removed in v5. Use the --report_to flag to control the integrations used for logging result (for instance --report_to none).\n"
     ]
    },
    {
     "data": {
      "text/html": [
       "\n",
       "    <div>\n",
       "      \n",
       "      <progress value='262' max='262' style='width:300px; height:20px; vertical-align: middle;'></progress>\n",
       "      [262/262 21:06, Epoch 0/1]\n",
       "    </div>\n",
       "    <table border=\"1\" class=\"dataframe\">\n",
       "  <thead>\n",
       "    <tr style=\"text-align: left;\">\n",
       "      <th>Epoch</th>\n",
       "      <th>Training Loss</th>\n",
       "      <th>Validation Loss</th>\n",
       "    </tr>\n",
       "  </thead>\n",
       "  <tbody>\n",
       "    <tr>\n",
       "      <td>0</td>\n",
       "      <td>No log</td>\n",
       "      <td>0.203466</td>\n",
       "    </tr>\n",
       "  </tbody>\n",
       "</table><p>"
      ],
      "text/plain": [
       "<IPython.core.display.HTML object>"
      ]
     },
     "metadata": {},
     "output_type": "display_data"
    },
    {
     "data": {
      "text/plain": [
       "TrainOutput(global_step=262, training_loss=0.2588689381839665, metrics={'train_runtime': 1270.7007, 'train_samples_per_second': 0.206, 'total_flos': 0, 'epoch': 1.0, 'init_mem_cpu_alloc_delta': -1023795200, 'init_mem_gpu_alloc_delta': 2236417024, 'init_mem_cpu_peaked_delta': 1023795200, 'init_mem_gpu_peaked_delta': 0, 'train_mem_cpu_alloc_delta': 45056, 'train_mem_gpu_alloc_delta': 6729210880, 'train_mem_cpu_peaked_delta': 2047791104, 'train_mem_gpu_peaked_delta': 5503517696})"
      ]
     },
     "execution_count": 21,
     "metadata": {},
     "output_type": "execute_result"
    }
   ],
   "source": [
    "args = TrainingArguments(\n",
    "    f\"chaii-qa\",\n",
    "    evaluation_strategy = \"epoch\",\n",
    "    save_strategy = \"epoch\",\n",
    "    learning_rate=3e-5,\n",
    "    warmup_ratio=0.1,\n",
    "    gradient_accumulation_steps=8,\n",
    "    per_device_train_batch_size=batch_size,\n",
    "    per_device_eval_batch_size=batch_size,\n",
    "    num_train_epochs=1,\n",
    "    weight_decay=0.01,\n",
    "#     report_to=\"wandb\"\n",
    ")\n",
    "\n",
    "trainer = Trainer(\n",
    "    model,\n",
    "    args,\n",
    "    train_dataset=tokenized_train_ds_hindi,\n",
    "    eval_dataset=tokenized_valid_ds_hindi,\n",
    "    data_collator=data_collator,\n",
    "    tokenizer=tokenizer,\n",
    ")\n",
    "\n",
    "trainer.train()\n",
    "# wandb.finish()"
   ]
  },
  {
   "cell_type": "code",
   "execution_count": 22,
   "id": "77915016",
   "metadata": {
    "execution": {
     "iopub.execute_input": "2021-09-07T15:14:25.662540Z",
     "iopub.status.busy": "2021-09-07T15:14:25.661687Z",
     "iopub.status.idle": "2021-09-07T15:14:52.565944Z",
     "shell.execute_reply": "2021-09-07T15:14:52.565275Z",
     "shell.execute_reply.started": "2021-09-07T14:26:50.754900Z"
    },
    "papermill": {
     "duration": 30.71486,
     "end_time": "2021-09-07T15:14:52.566084",
     "exception": false,
     "start_time": "2021-09-07T15:14:21.851224",
     "status": "completed"
    },
    "tags": []
   },
   "outputs": [],
   "source": [
    "trainer.save_model(\"chaii-bert-trained-hindi\")"
   ]
  },
  {
   "cell_type": "markdown",
   "id": "98f626ab",
   "metadata": {
    "papermill": {
     "duration": 2.148645,
     "end_time": "2021-09-07T15:14:55.603710",
     "exception": false,
     "start_time": "2021-09-07T15:14:53.455065",
     "status": "completed"
    },
    "tags": []
   },
   "source": [
    "## Validate"
   ]
  },
  {
   "cell_type": "code",
   "execution_count": 23,
   "id": "4afa01c8",
   "metadata": {
    "execution": {
     "iopub.execute_input": "2021-09-07T15:14:55.795772Z",
     "iopub.status.busy": "2021-09-07T15:14:55.791554Z",
     "iopub.status.idle": "2021-09-07T15:15:00.576723Z",
     "shell.execute_reply": "2021-09-07T15:15:00.576289Z",
     "shell.execute_reply.started": "2021-09-07T14:27:09.432550Z"
    },
    "papermill": {
     "duration": 4.911748,
     "end_time": "2021-09-07T15:15:00.576843",
     "exception": false,
     "start_time": "2021-09-07T15:14:55.665095",
     "status": "completed"
    },
    "tags": []
   },
   "outputs": [
    {
     "data": {
      "application/vnd.jupyter.widget-view+json": {
       "model_id": "4497a8329dca42b7b8d4158b5018efd1",
       "version_major": 2,
       "version_minor": 0
      },
      "text/plain": [
       "  0%|          | 0/1 [00:00<?, ?ba/s]"
      ]
     },
     "metadata": {},
     "output_type": "display_data"
    }
   ],
   "source": [
    "validation_features_hindi = valid_dataset_hindi.map(\n",
    "    prepare_validation_features,\n",
    "    batched=True,\n",
    "    remove_columns=valid_dataset_hindi.column_names\n",
    ")"
   ]
  },
  {
   "cell_type": "code",
   "execution_count": 24,
   "id": "a52f7bf2",
   "metadata": {
    "execution": {
     "iopub.execute_input": "2021-09-07T15:15:05.330239Z",
     "iopub.status.busy": "2021-09-07T15:15:05.329216Z",
     "iopub.status.idle": "2021-09-07T15:15:06.814972Z",
     "shell.execute_reply": "2021-09-07T15:15:06.811760Z",
     "shell.execute_reply.started": "2021-09-07T14:27:32.612579Z"
    },
    "papermill": {
     "duration": 2.712845,
     "end_time": "2021-09-07T15:15:06.815094",
     "exception": false,
     "start_time": "2021-09-07T15:15:04.102249",
     "status": "completed"
    },
    "tags": []
   },
   "outputs": [
    {
     "data": {
      "application/vnd.jupyter.widget-view+json": {
       "model_id": "16b86393e4f2430b97c1d028a5c62491",
       "version_major": 2,
       "version_minor": 0
      },
      "text/plain": [
       "  0%|          | 0/843 [00:00<?, ?ex/s]"
      ]
     },
     "metadata": {},
     "output_type": "display_data"
    }
   ],
   "source": [
    "valid_feats_small = validation_features_hindi.map(lambda example: example, remove_columns=['example_id', 'offset_mapping'])"
   ]
  },
  {
   "cell_type": "code",
   "execution_count": 25,
   "id": "1ec17856",
   "metadata": {
    "execution": {
     "iopub.execute_input": "2021-09-07T15:15:08.479507Z",
     "iopub.status.busy": "2021-09-07T15:15:08.478550Z",
     "iopub.status.idle": "2021-09-07T15:15:47.246963Z",
     "shell.execute_reply": "2021-09-07T15:15:47.246074Z",
     "shell.execute_reply.started": "2021-09-07T14:27:40.815999Z"
    },
    "papermill": {
     "duration": 40.268939,
     "end_time": "2021-09-07T15:15:47.247105",
     "exception": false,
     "start_time": "2021-09-07T15:15:06.978166",
     "status": "completed"
    },
    "tags": []
   },
   "outputs": [
    {
     "data": {
      "text/html": [
       "\n",
       "    <div>\n",
       "      \n",
       "      <progress value='211' max='211' style='width:300px; height:20px; vertical-align: middle;'></progress>\n",
       "      [211/211 00:38]\n",
       "    </div>\n",
       "    "
      ],
      "text/plain": [
       "<IPython.core.display.HTML object>"
      ]
     },
     "metadata": {},
     "output_type": "display_data"
    }
   ],
   "source": [
    "raw_predictions = trainer.predict(valid_feats_small)"
   ]
  },
  {
   "cell_type": "code",
   "execution_count": 26,
   "id": "7fdcba33",
   "metadata": {
    "execution": {
     "iopub.execute_input": "2021-09-07T15:15:48.686191Z",
     "iopub.status.busy": "2021-09-07T15:15:48.685430Z",
     "iopub.status.idle": "2021-09-07T15:15:48.688973Z",
     "shell.execute_reply": "2021-09-07T15:15:48.687782Z",
     "shell.execute_reply.started": "2021-09-07T14:28:26.422520Z"
    },
    "papermill": {
     "duration": 1.403211,
     "end_time": "2021-09-07T15:15:48.689112",
     "exception": false,
     "start_time": "2021-09-07T15:15:47.285901",
     "status": "completed"
    },
    "tags": []
   },
   "outputs": [],
   "source": [
    "import collections\n",
    "\n",
    "max_answer_length = 30\n",
    "examples = valid_dataset_hindi\n",
    "features = validation_features_hindi\n",
    "\n",
    "example_id_to_index = {k: i for i, k in enumerate(examples[\"id\"])}\n",
    "features_per_example = collections.defaultdict(list)\n",
    "for i, feature in enumerate(features):\n",
    "    features_per_example[example_id_to_index[feature[\"example_id\"]]].append(i)"
   ]
  },
  {
   "cell_type": "code",
   "execution_count": 27,
   "id": "ae51889c",
   "metadata": {
    "execution": {
     "iopub.execute_input": "2021-09-07T15:15:48.779720Z",
     "iopub.status.busy": "2021-09-07T15:15:48.779176Z",
     "iopub.status.idle": "2021-09-07T15:15:48.783526Z",
     "shell.execute_reply": "2021-09-07T15:15:48.782744Z",
     "shell.execute_reply.started": "2021-09-07T14:28:30.441888Z"
    },
    "papermill": {
     "duration": 0.056214,
     "end_time": "2021-09-07T15:15:48.783646",
     "exception": false,
     "start_time": "2021-09-07T15:15:48.727432",
     "status": "completed"
    },
    "tags": []
   },
   "outputs": [],
   "source": [
    "from tqdm.auto import tqdm\n",
    "\n",
    "def postprocess_qa_predictions(examples, features, raw_predictions, n_best_size = 20, max_answer_length = 30):\n",
    "    all_start_logits, all_end_logits = raw_predictions\n",
    "    # Build a map example to its corresponding features.\n",
    "    example_id_to_index = {k: i for i, k in enumerate(examples[\"id\"])}\n",
    "    features_per_example = collections.defaultdict(list)\n",
    "    for i, feature in enumerate(features):\n",
    "        features_per_example[example_id_to_index[feature[\"example_id\"]]].append(i)\n",
    "\n",
    "    # The dictionaries we have to fill.\n",
    "    predictions = collections.OrderedDict()\n",
    "\n",
    "    # Logging.\n",
    "    print(f\"Post-processing {len(examples)} example predictions split into {len(features)} features.\")\n",
    "\n",
    "    # Let's loop over all the examples!\n",
    "    for example_index, example in enumerate(tqdm(examples)):\n",
    "        # Those are the indices of the features associated to the current example.\n",
    "        feature_indices = features_per_example[example_index]\n",
    "\n",
    "        min_null_score = None # Only used if squad_v2 is True.\n",
    "        valid_answers = []\n",
    "        \n",
    "        context = example[\"context\"]\n",
    "        # Looping through all the features associated to the current example.\n",
    "        for feature_index in feature_indices:\n",
    "            # We grab the predictions of the model for this feature.\n",
    "            start_logits = all_start_logits[feature_index]\n",
    "            end_logits = all_end_logits[feature_index]\n",
    "            # This is what will allow us to map some the positions in our logits to span of texts in the original\n",
    "            # context.\n",
    "            offset_mapping = features[feature_index][\"offset_mapping\"]\n",
    "\n",
    "            # Update minimum null prediction.\n",
    "            cls_index = features[feature_index][\"input_ids\"].index(tokenizer.cls_token_id)\n",
    "            feature_null_score = start_logits[cls_index] + end_logits[cls_index]\n",
    "            if min_null_score is None or min_null_score < feature_null_score:\n",
    "                min_null_score = feature_null_score\n",
    "\n",
    "            # Go through all possibilities for the `n_best_size` greater start and end logits.\n",
    "            start_indexes = np.argsort(start_logits)[-1 : -n_best_size - 1 : -1].tolist()\n",
    "            end_indexes = np.argsort(end_logits)[-1 : -n_best_size - 1 : -1].tolist()\n",
    "            for start_index in start_indexes:\n",
    "                for end_index in end_indexes:\n",
    "                    # Don't consider out-of-scope answers, either because the indices are out of bounds or correspond\n",
    "                    # to part of the input_ids that are not in the context.\n",
    "                    if (\n",
    "                        start_index >= len(offset_mapping)\n",
    "                        or end_index >= len(offset_mapping)\n",
    "                        or offset_mapping[start_index] is None\n",
    "                        or offset_mapping[end_index] is None\n",
    "                    ):\n",
    "                        continue\n",
    "                    # Don't consider answers with a length that is either < 0 or > max_answer_length.\n",
    "                    if end_index < start_index or end_index - start_index + 1 > max_answer_length:\n",
    "                        continue\n",
    "\n",
    "                    start_char = offset_mapping[start_index][0]\n",
    "                    end_char = offset_mapping[end_index][1]\n",
    "                    valid_answers.append(\n",
    "                        {\n",
    "                            \"score\": start_logits[start_index] + end_logits[end_index],\n",
    "                            \"text\": context[start_char: end_char]\n",
    "                        }\n",
    "                    )\n",
    "        \n",
    "        if len(valid_answers) > 0:\n",
    "            best_answer = sorted(valid_answers, key=lambda x: x[\"score\"], reverse=True)[0]\n",
    "        else:\n",
    "            # In the very rare edge case we have not a single non-null prediction, we create a fake prediction to avoid\n",
    "            # failure.\n",
    "            best_answer = {\"text\": \"\", \"score\": 0.0}\n",
    "        \n",
    "        # Let's pick our final answer: the best one or the null answer (only for squad_v2)\n",
    "        predictions[example[\"id\"]] = best_answer[\"text\"]\n",
    "\n",
    "    return predictions"
   ]
  },
  {
   "cell_type": "code",
   "execution_count": 28,
   "id": "9bdd6e19",
   "metadata": {
    "execution": {
     "iopub.execute_input": "2021-09-07T15:15:49.975116Z",
     "iopub.status.busy": "2021-09-07T15:15:48.865510Z",
     "iopub.status.idle": "2021-09-07T15:15:53.279270Z",
     "shell.execute_reply": "2021-09-07T15:15:53.278372Z",
     "shell.execute_reply.started": "2021-09-07T14:28:34.985759Z"
    },
    "papermill": {
     "duration": 4.45661,
     "end_time": "2021-09-07T15:15:53.279392",
     "exception": false,
     "start_time": "2021-09-07T15:15:48.822782",
     "status": "completed"
    },
    "tags": []
   },
   "outputs": [
    {
     "name": "stdout",
     "output_type": "stream",
     "text": [
      "Post-processing 64 example predictions split into 843 features.\n"
     ]
    },
    {
     "data": {
      "application/vnd.jupyter.widget-view+json": {
       "model_id": "f7242eb53ee94ff59d115fd838614923",
       "version_major": 2,
       "version_minor": 0
      },
      "text/plain": [
       "  0%|          | 0/64 [00:00<?, ?it/s]"
      ]
     },
     "metadata": {},
     "output_type": "display_data"
    }
   ],
   "source": [
    "final_predictions = postprocess_qa_predictions(valid_dataset_hindi, validation_features_hindi, raw_predictions.predictions)"
   ]
  },
  {
   "cell_type": "code",
   "execution_count": 29,
   "id": "33c46e7d",
   "metadata": {
    "execution": {
     "iopub.execute_input": "2021-09-07T15:15:53.375141Z",
     "iopub.status.busy": "2021-09-07T15:15:53.373895Z",
     "iopub.status.idle": "2021-09-07T15:15:53.376127Z",
     "shell.execute_reply": "2021-09-07T15:15:53.376592Z",
     "shell.execute_reply.started": "2021-09-07T14:28:42.686384Z"
    },
    "papermill": {
     "duration": 0.058315,
     "end_time": "2021-09-07T15:15:53.376720",
     "exception": false,
     "start_time": "2021-09-07T15:15:53.318405",
     "status": "completed"
    },
    "tags": []
   },
   "outputs": [],
   "source": [
    "references = [{\"id\": ex[\"id\"], \"answer\": ex[\"answers\"]['text'][0]} for ex in valid_dataset_hindi]"
   ]
  },
  {
   "cell_type": "code",
   "execution_count": 30,
   "id": "4c955047",
   "metadata": {
    "execution": {
     "iopub.execute_input": "2021-09-07T15:15:53.499585Z",
     "iopub.status.busy": "2021-09-07T15:15:53.498841Z",
     "iopub.status.idle": "2021-09-07T15:15:53.501714Z",
     "shell.execute_reply": "2021-09-07T15:15:53.501286Z",
     "shell.execute_reply.started": "2021-09-07T14:28:45.311749Z"
    },
    "papermill": {
     "duration": 0.086096,
     "end_time": "2021-09-07T15:15:53.501815",
     "exception": false,
     "start_time": "2021-09-07T15:15:53.415719",
     "status": "completed"
    },
    "tags": []
   },
   "outputs": [],
   "source": [
    "def jaccard(row): \n",
    "    str1 = row[0]\n",
    "    str2 = row[1]\n",
    "    a = set(str1.lower().split()) \n",
    "    b = set(str2.lower().split())\n",
    "    c = a.intersection(b)\n",
    "    return float(len(c)) / (len(a) + len(b) - len(c))"
   ]
  },
  {
   "cell_type": "code",
   "execution_count": 31,
   "id": "5432d994",
   "metadata": {
    "execution": {
     "iopub.execute_input": "2021-09-07T15:15:53.605570Z",
     "iopub.status.busy": "2021-09-07T15:15:53.604684Z",
     "iopub.status.idle": "2021-09-07T15:15:53.608331Z",
     "shell.execute_reply": "2021-09-07T15:15:53.608759Z",
     "shell.execute_reply.started": "2021-09-07T14:28:47.637627Z"
    },
    "papermill": {
     "duration": 0.068521,
     "end_time": "2021-09-07T15:15:53.608928",
     "exception": false,
     "start_time": "2021-09-07T15:15:53.540407",
     "status": "completed"
    },
    "tags": []
   },
   "outputs": [
    {
     "data": {
      "text/html": [
       "<div>\n",
       "<style scoped>\n",
       "    .dataframe tbody tr th:only-of-type {\n",
       "        vertical-align: middle;\n",
       "    }\n",
       "\n",
       "    .dataframe tbody tr th {\n",
       "        vertical-align: top;\n",
       "    }\n",
       "\n",
       "    .dataframe thead th {\n",
       "        text-align: right;\n",
       "    }\n",
       "</style>\n",
       "<table border=\"1\" class=\"dataframe\">\n",
       "  <thead>\n",
       "    <tr style=\"text-align: right;\">\n",
       "      <th></th>\n",
       "      <th>id</th>\n",
       "      <th>answer</th>\n",
       "      <th>prediction</th>\n",
       "      <th>jaccard</th>\n",
       "    </tr>\n",
       "  </thead>\n",
       "  <tbody>\n",
       "    <tr>\n",
       "      <th>0</th>\n",
       "      <td>151071dab</td>\n",
       "      <td>‘आर्थोपोडा</td>\n",
       "      <td>आर्थोपोडा</td>\n",
       "      <td>0.000000</td>\n",
       "    </tr>\n",
       "    <tr>\n",
       "      <th>1</th>\n",
       "      <td>4a92c37c2</td>\n",
       "      <td>1613 ई.</td>\n",
       "      <td>1613 ई.</td>\n",
       "      <td>1.000000</td>\n",
       "    </tr>\n",
       "    <tr>\n",
       "      <th>2</th>\n",
       "      <td>c20772e17</td>\n",
       "      <td>1927</td>\n",
       "      <td>1927</td>\n",
       "      <td>1.000000</td>\n",
       "    </tr>\n",
       "    <tr>\n",
       "      <th>3</th>\n",
       "      <td>455f23be7</td>\n",
       "      <td>एस एन डी टी</td>\n",
       "      <td>एस एन डी टी</td>\n",
       "      <td>1.000000</td>\n",
       "    </tr>\n",
       "    <tr>\n",
       "      <th>4</th>\n",
       "      <td>eddadac58</td>\n",
       "      <td>स्वामी हरिदास</td>\n",
       "      <td>स्वामी हरिदास जी</td>\n",
       "      <td>0.666667</td>\n",
       "    </tr>\n",
       "    <tr>\n",
       "      <th>...</th>\n",
       "      <td>...</td>\n",
       "      <td>...</td>\n",
       "      <td>...</td>\n",
       "      <td>...</td>\n",
       "    </tr>\n",
       "    <tr>\n",
       "      <th>59</th>\n",
       "      <td>58b3676a4</td>\n",
       "      <td>मराठी</td>\n",
       "      <td>मराठी</td>\n",
       "      <td>1.000000</td>\n",
       "    </tr>\n",
       "    <tr>\n",
       "      <th>60</th>\n",
       "      <td>5aeacd81a</td>\n",
       "      <td>सेंट्रल प्रोसेसिंग यूनिट</td>\n",
       "      <td>सेंट्रल प्रोसेसिंग यूनिट</td>\n",
       "      <td>1.000000</td>\n",
       "    </tr>\n",
       "    <tr>\n",
       "      <th>61</th>\n",
       "      <td>89d938493</td>\n",
       "      <td>इब्न-अल-हज़ैन</td>\n",
       "      <td>इब्न-अल-हज़ैन</td>\n",
       "      <td>1.000000</td>\n",
       "    </tr>\n",
       "    <tr>\n",
       "      <th>62</th>\n",
       "      <td>8d13dfd40</td>\n",
       "      <td>फ़्रांसिसी</td>\n",
       "      <td>फ़्रांसिसी</td>\n",
       "      <td>1.000000</td>\n",
       "    </tr>\n",
       "    <tr>\n",
       "      <th>63</th>\n",
       "      <td>28045a331</td>\n",
       "      <td>32</td>\n",
       "      <td>32</td>\n",
       "      <td>1.000000</td>\n",
       "    </tr>\n",
       "  </tbody>\n",
       "</table>\n",
       "<p>64 rows × 4 columns</p>\n",
       "</div>"
      ],
      "text/plain": [
       "           id                    answer                 prediction   jaccard\n",
       "0   151071dab                ‘आर्थोपोडा                  आर्थोपोडा  0.000000\n",
       "1   4a92c37c2                   1613 ई.                    1613 ई.  1.000000\n",
       "2   c20772e17                      1927                       1927  1.000000\n",
       "3   455f23be7               एस एन डी टी                एस एन डी टी  1.000000\n",
       "4   eddadac58             स्वामी हरिदास           स्वामी हरिदास जी  0.666667\n",
       "..        ...                       ...                        ...       ...\n",
       "59  58b3676a4                     मराठी                      मराठी  1.000000\n",
       "60  5aeacd81a  सेंट्रल प्रोसेसिंग यूनिट   सेंट्रल प्रोसेसिंग यूनिट  1.000000\n",
       "61  89d938493             इब्न-अल-हज़ैन              इब्न-अल-हज़ैन  1.000000\n",
       "62  8d13dfd40                फ़्रांसिसी                 फ़्रांसिसी  1.000000\n",
       "63  28045a331                        32                         32  1.000000\n",
       "\n",
       "[64 rows x 4 columns]"
      ]
     },
     "execution_count": 31,
     "metadata": {},
     "output_type": "execute_result"
    }
   ],
   "source": [
    "res = pd.DataFrame(references)\n",
    "res['prediction'] = res['id'].apply(lambda r: final_predictions[r])\n",
    "res['jaccard'] = res[['answer', 'prediction']].apply(jaccard, axis=1)\n",
    "res"
   ]
  },
  {
   "cell_type": "code",
   "execution_count": 32,
   "id": "a04b0868",
   "metadata": {
    "execution": {
     "iopub.execute_input": "2021-09-07T15:15:53.694306Z",
     "iopub.status.busy": "2021-09-07T15:15:53.693603Z",
     "iopub.status.idle": "2021-09-07T15:15:53.697071Z",
     "shell.execute_reply": "2021-09-07T15:15:53.696632Z",
     "shell.execute_reply.started": "2021-09-07T14:29:05.826453Z"
    },
    "papermill": {
     "duration": 0.048344,
     "end_time": "2021-09-07T15:15:53.697174",
     "exception": false,
     "start_time": "2021-09-07T15:15:53.648830",
     "status": "completed"
    },
    "tags": []
   },
   "outputs": [
    {
     "data": {
      "text/plain": [
       "0.6985677083333334"
      ]
     },
     "execution_count": 32,
     "metadata": {},
     "output_type": "execute_result"
    }
   ],
   "source": [
    "res.jaccard.mean()"
   ]
  }
 ],
 "metadata": {
  "kernelspec": {
   "display_name": "Python 3",
   "language": "python",
   "name": "python3"
  },
  "language_info": {
   "codemirror_mode": {
    "name": "ipython",
    "version": 3
   },
   "file_extension": ".py",
   "mimetype": "text/x-python",
   "name": "python",
   "nbconvert_exporter": "python",
   "pygments_lexer": "ipython3",
   "version": "3.7.10"
  },
  "papermill": {
   "default_parameters": {},
   "duration": 2308.333464,
   "end_time": "2021-09-07T15:15:56.119721",
   "environment_variables": {},
   "exception": null,
   "input_path": "__notebook__.ipynb",
   "output_path": "__notebook__.ipynb",
   "parameters": {},
   "start_time": "2021-09-07T14:37:27.786257",
   "version": "2.3.3"
  },
  "widgets": {
   "application/vnd.jupyter.widget-state+json": {
    "state": {
     "0338d349aed645e8ad7e836073bab433": {
      "model_module": "@jupyter-widgets/base",
      "model_module_version": "1.2.0",
      "model_name": "LayoutModel",
      "state": {
       "_model_module": "@jupyter-widgets/base",
       "_model_module_version": "1.2.0",
       "_model_name": "LayoutModel",
       "_view_count": null,
       "_view_module": "@jupyter-widgets/base",
       "_view_module_version": "1.2.0",
       "_view_name": "LayoutView",
       "align_content": null,
       "align_items": null,
       "align_self": null,
       "border": null,
       "bottom": null,
       "display": null,
       "flex": null,
       "flex_flow": null,
       "grid_area": null,
       "grid_auto_columns": null,
       "grid_auto_flow": null,
       "grid_auto_rows": null,
       "grid_column": null,
       "grid_gap": null,
       "grid_row": null,
       "grid_template_areas": null,
       "grid_template_columns": null,
       "grid_template_rows": null,
       "height": null,
       "justify_content": null,
       "justify_items": null,
       "left": null,
       "margin": null,
       "max_height": null,
       "max_width": null,
       "min_height": null,
       "min_width": null,
       "object_fit": null,
       "object_position": null,
       "order": null,
       "overflow": null,
       "overflow_x": null,
       "overflow_y": null,
       "padding": null,
       "right": null,
       "top": null,
       "visibility": null,
       "width": null
      }
     },
     "03ac497f61754ad1b992e7a53f04fced": {
      "model_module": "@jupyter-widgets/controls",
      "model_module_version": "1.5.0",
      "model_name": "DescriptionStyleModel",
      "state": {
       "_model_module": "@jupyter-widgets/controls",
       "_model_module_version": "1.5.0",
       "_model_name": "DescriptionStyleModel",
       "_view_count": null,
       "_view_module": "@jupyter-widgets/base",
       "_view_module_version": "1.2.0",
       "_view_name": "StyleView",
       "description_width": ""
      }
     },
     "04f304dc4ffe43f7a7d88a64132c6850": {
      "model_module": "@jupyter-widgets/base",
      "model_module_version": "1.2.0",
      "model_name": "LayoutModel",
      "state": {
       "_model_module": "@jupyter-widgets/base",
       "_model_module_version": "1.2.0",
       "_model_name": "LayoutModel",
       "_view_count": null,
       "_view_module": "@jupyter-widgets/base",
       "_view_module_version": "1.2.0",
       "_view_name": "LayoutView",
       "align_content": null,
       "align_items": null,
       "align_self": null,
       "border": null,
       "bottom": null,
       "display": null,
       "flex": null,
       "flex_flow": null,
       "grid_area": null,
       "grid_auto_columns": null,
       "grid_auto_flow": null,
       "grid_auto_rows": null,
       "grid_column": null,
       "grid_gap": null,
       "grid_row": null,
       "grid_template_areas": null,
       "grid_template_columns": null,
       "grid_template_rows": null,
       "height": null,
       "justify_content": null,
       "justify_items": null,
       "left": null,
       "margin": null,
       "max_height": null,
       "max_width": null,
       "min_height": null,
       "min_width": null,
       "object_fit": null,
       "object_position": null,
       "order": null,
       "overflow": null,
       "overflow_x": null,
       "overflow_y": null,
       "padding": null,
       "right": null,
       "top": null,
       "visibility": null,
       "width": null
      }
     },
     "04ffd928d3ce4189992fd2e4c0ad5761": {
      "model_module": "@jupyter-widgets/controls",
      "model_module_version": "1.5.0",
      "model_name": "DescriptionStyleModel",
      "state": {
       "_model_module": "@jupyter-widgets/controls",
       "_model_module_version": "1.5.0",
       "_model_name": "DescriptionStyleModel",
       "_view_count": null,
       "_view_module": "@jupyter-widgets/base",
       "_view_module_version": "1.2.0",
       "_view_name": "StyleView",
       "description_width": ""
      }
     },
     "05ce1e22203243b5812b8253af122a3b": {
      "model_module": "@jupyter-widgets/controls",
      "model_module_version": "1.5.0",
      "model_name": "DescriptionStyleModel",
      "state": {
       "_model_module": "@jupyter-widgets/controls",
       "_model_module_version": "1.5.0",
       "_model_name": "DescriptionStyleModel",
       "_view_count": null,
       "_view_module": "@jupyter-widgets/base",
       "_view_module_version": "1.2.0",
       "_view_name": "StyleView",
       "description_width": ""
      }
     },
     "06678a3e4c1f405da38db79e5a71456d": {
      "model_module": "@jupyter-widgets/controls",
      "model_module_version": "1.5.0",
      "model_name": "DescriptionStyleModel",
      "state": {
       "_model_module": "@jupyter-widgets/controls",
       "_model_module_version": "1.5.0",
       "_model_name": "DescriptionStyleModel",
       "_view_count": null,
       "_view_module": "@jupyter-widgets/base",
       "_view_module_version": "1.2.0",
       "_view_name": "StyleView",
       "description_width": ""
      }
     },
     "075809dc25d644b6bfb0511a47b8b226": {
      "model_module": "@jupyter-widgets/base",
      "model_module_version": "1.2.0",
      "model_name": "LayoutModel",
      "state": {
       "_model_module": "@jupyter-widgets/base",
       "_model_module_version": "1.2.0",
       "_model_name": "LayoutModel",
       "_view_count": null,
       "_view_module": "@jupyter-widgets/base",
       "_view_module_version": "1.2.0",
       "_view_name": "LayoutView",
       "align_content": null,
       "align_items": null,
       "align_self": null,
       "border": null,
       "bottom": null,
       "display": null,
       "flex": null,
       "flex_flow": null,
       "grid_area": null,
       "grid_auto_columns": null,
       "grid_auto_flow": null,
       "grid_auto_rows": null,
       "grid_column": null,
       "grid_gap": null,
       "grid_row": null,
       "grid_template_areas": null,
       "grid_template_columns": null,
       "grid_template_rows": null,
       "height": null,
       "justify_content": null,
       "justify_items": null,
       "left": null,
       "margin": null,
       "max_height": null,
       "max_width": null,
       "min_height": null,
       "min_width": null,
       "object_fit": null,
       "object_position": null,
       "order": null,
       "overflow": null,
       "overflow_x": null,
       "overflow_y": null,
       "padding": null,
       "right": null,
       "top": null,
       "visibility": null,
       "width": null
      }
     },
     "15ad1424f30046a5a73e1f9e4dba4743": {
      "model_module": "@jupyter-widgets/controls",
      "model_module_version": "1.5.0",
      "model_name": "ProgressStyleModel",
      "state": {
       "_model_module": "@jupyter-widgets/controls",
       "_model_module_version": "1.5.0",
       "_model_name": "ProgressStyleModel",
       "_view_count": null,
       "_view_module": "@jupyter-widgets/base",
       "_view_module_version": "1.2.0",
       "_view_name": "StyleView",
       "bar_color": null,
       "description_width": ""
      }
     },
     "16b86393e4f2430b97c1d028a5c62491": {
      "model_module": "@jupyter-widgets/controls",
      "model_module_version": "1.5.0",
      "model_name": "HBoxModel",
      "state": {
       "_dom_classes": [],
       "_model_module": "@jupyter-widgets/controls",
       "_model_module_version": "1.5.0",
       "_model_name": "HBoxModel",
       "_view_count": null,
       "_view_module": "@jupyter-widgets/controls",
       "_view_module_version": "1.5.0",
       "_view_name": "HBoxView",
       "box_style": "",
       "children": [
        "IPY_MODEL_4fde8e1e8ce64d499348760319a4789c",
        "IPY_MODEL_9260acebcbde4e9eb21cb1727314d168",
        "IPY_MODEL_7d94565836bf48699d307a3d8e808513"
       ],
       "layout": "IPY_MODEL_04f304dc4ffe43f7a7d88a64132c6850"
      }
     },
     "170b9599ef8541fba4b8c0e2945bc1b2": {
      "model_module": "@jupyter-widgets/base",
      "model_module_version": "1.2.0",
      "model_name": "LayoutModel",
      "state": {
       "_model_module": "@jupyter-widgets/base",
       "_model_module_version": "1.2.0",
       "_model_name": "LayoutModel",
       "_view_count": null,
       "_view_module": "@jupyter-widgets/base",
       "_view_module_version": "1.2.0",
       "_view_name": "LayoutView",
       "align_content": null,
       "align_items": null,
       "align_self": null,
       "border": null,
       "bottom": null,
       "display": null,
       "flex": null,
       "flex_flow": null,
       "grid_area": null,
       "grid_auto_columns": null,
       "grid_auto_flow": null,
       "grid_auto_rows": null,
       "grid_column": null,
       "grid_gap": null,
       "grid_row": null,
       "grid_template_areas": null,
       "grid_template_columns": null,
       "grid_template_rows": null,
       "height": null,
       "justify_content": null,
       "justify_items": null,
       "left": null,
       "margin": null,
       "max_height": null,
       "max_width": null,
       "min_height": null,
       "min_width": null,
       "object_fit": null,
       "object_position": null,
       "order": null,
       "overflow": null,
       "overflow_x": null,
       "overflow_y": null,
       "padding": null,
       "right": null,
       "top": null,
       "visibility": null,
       "width": null
      }
     },
     "185245a978704bf5b829e51a083113ff": {
      "model_module": "@jupyter-widgets/base",
      "model_module_version": "1.2.0",
      "model_name": "LayoutModel",
      "state": {
       "_model_module": "@jupyter-widgets/base",
       "_model_module_version": "1.2.0",
       "_model_name": "LayoutModel",
       "_view_count": null,
       "_view_module": "@jupyter-widgets/base",
       "_view_module_version": "1.2.0",
       "_view_name": "LayoutView",
       "align_content": null,
       "align_items": null,
       "align_self": null,
       "border": null,
       "bottom": null,
       "display": null,
       "flex": null,
       "flex_flow": null,
       "grid_area": null,
       "grid_auto_columns": null,
       "grid_auto_flow": null,
       "grid_auto_rows": null,
       "grid_column": null,
       "grid_gap": null,
       "grid_row": null,
       "grid_template_areas": null,
       "grid_template_columns": null,
       "grid_template_rows": null,
       "height": null,
       "justify_content": null,
       "justify_items": null,
       "left": null,
       "margin": null,
       "max_height": null,
       "max_width": null,
       "min_height": null,
       "min_width": null,
       "object_fit": null,
       "object_position": null,
       "order": null,
       "overflow": null,
       "overflow_x": null,
       "overflow_y": null,
       "padding": null,
       "right": null,
       "top": null,
       "visibility": null,
       "width": null
      }
     },
     "1a3143437e054c94bf1f6a3ed3149d45": {
      "model_module": "@jupyter-widgets/base",
      "model_module_version": "1.2.0",
      "model_name": "LayoutModel",
      "state": {
       "_model_module": "@jupyter-widgets/base",
       "_model_module_version": "1.2.0",
       "_model_name": "LayoutModel",
       "_view_count": null,
       "_view_module": "@jupyter-widgets/base",
       "_view_module_version": "1.2.0",
       "_view_name": "LayoutView",
       "align_content": null,
       "align_items": null,
       "align_self": null,
       "border": null,
       "bottom": null,
       "display": null,
       "flex": null,
       "flex_flow": null,
       "grid_area": null,
       "grid_auto_columns": null,
       "grid_auto_flow": null,
       "grid_auto_rows": null,
       "grid_column": null,
       "grid_gap": null,
       "grid_row": null,
       "grid_template_areas": null,
       "grid_template_columns": null,
       "grid_template_rows": null,
       "height": null,
       "justify_content": null,
       "justify_items": null,
       "left": null,
       "margin": null,
       "max_height": null,
       "max_width": null,
       "min_height": null,
       "min_width": null,
       "object_fit": null,
       "object_position": null,
       "order": null,
       "overflow": null,
       "overflow_x": null,
       "overflow_y": null,
       "padding": null,
       "right": null,
       "top": null,
       "visibility": null,
       "width": null
      }
     },
     "1db058039c30421d96b0d15b99bedd65": {
      "model_module": "@jupyter-widgets/base",
      "model_module_version": "1.2.0",
      "model_name": "LayoutModel",
      "state": {
       "_model_module": "@jupyter-widgets/base",
       "_model_module_version": "1.2.0",
       "_model_name": "LayoutModel",
       "_view_count": null,
       "_view_module": "@jupyter-widgets/base",
       "_view_module_version": "1.2.0",
       "_view_name": "LayoutView",
       "align_content": null,
       "align_items": null,
       "align_self": null,
       "border": null,
       "bottom": null,
       "display": null,
       "flex": null,
       "flex_flow": null,
       "grid_area": null,
       "grid_auto_columns": null,
       "grid_auto_flow": null,
       "grid_auto_rows": null,
       "grid_column": null,
       "grid_gap": null,
       "grid_row": null,
       "grid_template_areas": null,
       "grid_template_columns": null,
       "grid_template_rows": null,
       "height": null,
       "justify_content": null,
       "justify_items": null,
       "left": null,
       "margin": null,
       "max_height": null,
       "max_width": null,
       "min_height": null,
       "min_width": null,
       "object_fit": null,
       "object_position": null,
       "order": null,
       "overflow": null,
       "overflow_x": null,
       "overflow_y": null,
       "padding": null,
       "right": null,
       "top": null,
       "visibility": null,
       "width": null
      }
     },
     "20559d76c0bc48c8b812cfc9f52bb014": {
      "model_module": "@jupyter-widgets/base",
      "model_module_version": "1.2.0",
      "model_name": "LayoutModel",
      "state": {
       "_model_module": "@jupyter-widgets/base",
       "_model_module_version": "1.2.0",
       "_model_name": "LayoutModel",
       "_view_count": null,
       "_view_module": "@jupyter-widgets/base",
       "_view_module_version": "1.2.0",
       "_view_name": "LayoutView",
       "align_content": null,
       "align_items": null,
       "align_self": null,
       "border": null,
       "bottom": null,
       "display": null,
       "flex": null,
       "flex_flow": null,
       "grid_area": null,
       "grid_auto_columns": null,
       "grid_auto_flow": null,
       "grid_auto_rows": null,
       "grid_column": null,
       "grid_gap": null,
       "grid_row": null,
       "grid_template_areas": null,
       "grid_template_columns": null,
       "grid_template_rows": null,
       "height": null,
       "justify_content": null,
       "justify_items": null,
       "left": null,
       "margin": null,
       "max_height": null,
       "max_width": null,
       "min_height": null,
       "min_width": null,
       "object_fit": null,
       "object_position": null,
       "order": null,
       "overflow": null,
       "overflow_x": null,
       "overflow_y": null,
       "padding": null,
       "right": null,
       "top": null,
       "visibility": null,
       "width": null
      }
     },
     "20f35252d25b4423b7cb3d1c8f8b4306": {
      "model_module": "@jupyter-widgets/controls",
      "model_module_version": "1.5.0",
      "model_name": "HTMLModel",
      "state": {
       "_dom_classes": [],
       "_model_module": "@jupyter-widgets/controls",
       "_model_module_version": "1.5.0",
       "_model_name": "HTMLModel",
       "_view_count": null,
       "_view_module": "@jupyter-widgets/controls",
       "_view_module_version": "1.5.0",
       "_view_name": "HTMLView",
       "description": "",
       "description_tooltip": null,
       "layout": "IPY_MODEL_8f70cfaf405e4929b528dc4ae7eec34b",
       "placeholder": "​",
       "style": "IPY_MODEL_04ffd928d3ce4189992fd2e4c0ad5761",
       "value": "100%"
      }
     },
     "22d0491ab2a64ebb9896b6e9451ad50b": {
      "model_module": "@jupyter-widgets/controls",
      "model_module_version": "1.5.0",
      "model_name": "HTMLModel",
      "state": {
       "_dom_classes": [],
       "_model_module": "@jupyter-widgets/controls",
       "_model_module_version": "1.5.0",
       "_model_name": "HTMLModel",
       "_view_count": null,
       "_view_module": "@jupyter-widgets/controls",
       "_view_module_version": "1.5.0",
       "_view_name": "HTMLView",
       "description": "",
       "description_tooltip": null,
       "layout": "IPY_MODEL_ed91c3c9280a47138ad8c2542b29cd08",
       "placeholder": "​",
       "style": "IPY_MODEL_86462c1dc0a34be1a025f4029f950e67",
       "value": "100%"
      }
     },
     "23d58a449ce5423abbb99c77b227f57f": {
      "model_module": "@jupyter-widgets/controls",
      "model_module_version": "1.5.0",
      "model_name": "HBoxModel",
      "state": {
       "_dom_classes": [],
       "_model_module": "@jupyter-widgets/controls",
       "_model_module_version": "1.5.0",
       "_model_name": "HBoxModel",
       "_view_count": null,
       "_view_module": "@jupyter-widgets/controls",
       "_view_module_version": "1.5.0",
       "_view_name": "HBoxView",
       "box_style": "",
       "children": [
        "IPY_MODEL_7e9e775e6be94a898adcb3490c8c1696",
        "IPY_MODEL_5255904594ae43e9ac3568d05d3dd2b7",
        "IPY_MODEL_9cfec2c4ce43459e8a01fc834c1c8016"
       ],
       "layout": "IPY_MODEL_d5ee732951cc46ce984172a0372f9d83"
      }
     },
     "291c23dc171742edaa191393ab0c5319": {
      "model_module": "@jupyter-widgets/base",
      "model_module_version": "1.2.0",
      "model_name": "LayoutModel",
      "state": {
       "_model_module": "@jupyter-widgets/base",
       "_model_module_version": "1.2.0",
       "_model_name": "LayoutModel",
       "_view_count": null,
       "_view_module": "@jupyter-widgets/base",
       "_view_module_version": "1.2.0",
       "_view_name": "LayoutView",
       "align_content": null,
       "align_items": null,
       "align_self": null,
       "border": null,
       "bottom": null,
       "display": null,
       "flex": null,
       "flex_flow": null,
       "grid_area": null,
       "grid_auto_columns": null,
       "grid_auto_flow": null,
       "grid_auto_rows": null,
       "grid_column": null,
       "grid_gap": null,
       "grid_row": null,
       "grid_template_areas": null,
       "grid_template_columns": null,
       "grid_template_rows": null,
       "height": null,
       "justify_content": null,
       "justify_items": null,
       "left": null,
       "margin": null,
       "max_height": null,
       "max_width": null,
       "min_height": null,
       "min_width": null,
       "object_fit": null,
       "object_position": null,
       "order": null,
       "overflow": null,
       "overflow_x": null,
       "overflow_y": null,
       "padding": null,
       "right": null,
       "top": null,
       "visibility": null,
       "width": null
      }
     },
     "29a8fd91b59d4d0480f525c668543115": {
      "model_module": "@jupyter-widgets/controls",
      "model_module_version": "1.5.0",
      "model_name": "FloatProgressModel",
      "state": {
       "_dom_classes": [],
       "_model_module": "@jupyter-widgets/controls",
       "_model_module_version": "1.5.0",
       "_model_name": "FloatProgressModel",
       "_view_count": null,
       "_view_module": "@jupyter-widgets/controls",
       "_view_module_version": "1.5.0",
       "_view_name": "ProgressView",
       "bar_style": "success",
       "description": "",
       "description_tooltip": null,
       "layout": "IPY_MODEL_1a3143437e054c94bf1f6a3ed3149d45",
       "max": 1.0,
       "min": 0.0,
       "orientation": "horizontal",
       "style": "IPY_MODEL_15ad1424f30046a5a73e1f9e4dba4743",
       "value": 1.0
      }
     },
     "2d4110313c094bfc82f4f9cd0c8f505c": {
      "model_module": "@jupyter-widgets/controls",
      "model_module_version": "1.5.0",
      "model_name": "DescriptionStyleModel",
      "state": {
       "_model_module": "@jupyter-widgets/controls",
       "_model_module_version": "1.5.0",
       "_model_name": "DescriptionStyleModel",
       "_view_count": null,
       "_view_module": "@jupyter-widgets/base",
       "_view_module_version": "1.2.0",
       "_view_name": "StyleView",
       "description_width": ""
      }
     },
     "2efd9a03fadd4550b7b2cc333dfc3cd1": {
      "model_module": "@jupyter-widgets/controls",
      "model_module_version": "1.5.0",
      "model_name": "FloatProgressModel",
      "state": {
       "_dom_classes": [],
       "_model_module": "@jupyter-widgets/controls",
       "_model_module_version": "1.5.0",
       "_model_name": "FloatProgressModel",
       "_view_count": null,
       "_view_module": "@jupyter-widgets/controls",
       "_view_module_version": "1.5.0",
       "_view_name": "ProgressView",
       "bar_style": "success",
       "description": "",
       "description_tooltip": null,
       "layout": "IPY_MODEL_0338d349aed645e8ad7e836073bab433",
       "max": 1.0,
       "min": 0.0,
       "orientation": "horizontal",
       "style": "IPY_MODEL_f3c1565987584acaa83cdfe3c9f90c04",
       "value": 1.0
      }
     },
     "3133ceac8a3b464b84f6b46b9f7f0ec2": {
      "model_module": "@jupyter-widgets/controls",
      "model_module_version": "1.5.0",
      "model_name": "ProgressStyleModel",
      "state": {
       "_model_module": "@jupyter-widgets/controls",
       "_model_module_version": "1.5.0",
       "_model_name": "ProgressStyleModel",
       "_view_count": null,
       "_view_module": "@jupyter-widgets/base",
       "_view_module_version": "1.2.0",
       "_view_name": "StyleView",
       "bar_color": null,
       "description_width": ""
      }
     },
     "35112ace52894b39b11e97109a392a99": {
      "model_module": "@jupyter-widgets/base",
      "model_module_version": "1.2.0",
      "model_name": "LayoutModel",
      "state": {
       "_model_module": "@jupyter-widgets/base",
       "_model_module_version": "1.2.0",
       "_model_name": "LayoutModel",
       "_view_count": null,
       "_view_module": "@jupyter-widgets/base",
       "_view_module_version": "1.2.0",
       "_view_name": "LayoutView",
       "align_content": null,
       "align_items": null,
       "align_self": null,
       "border": null,
       "bottom": null,
       "display": null,
       "flex": null,
       "flex_flow": null,
       "grid_area": null,
       "grid_auto_columns": null,
       "grid_auto_flow": null,
       "grid_auto_rows": null,
       "grid_column": null,
       "grid_gap": null,
       "grid_row": null,
       "grid_template_areas": null,
       "grid_template_columns": null,
       "grid_template_rows": null,
       "height": null,
       "justify_content": null,
       "justify_items": null,
       "left": null,
       "margin": null,
       "max_height": null,
       "max_width": null,
       "min_height": null,
       "min_width": null,
       "object_fit": null,
       "object_position": null,
       "order": null,
       "overflow": null,
       "overflow_x": null,
       "overflow_y": null,
       "padding": null,
       "right": null,
       "top": null,
       "visibility": null,
       "width": null
      }
     },
     "3f0e7f4aeef64ec6899f0da3453553b8": {
      "model_module": "@jupyter-widgets/base",
      "model_module_version": "1.2.0",
      "model_name": "LayoutModel",
      "state": {
       "_model_module": "@jupyter-widgets/base",
       "_model_module_version": "1.2.0",
       "_model_name": "LayoutModel",
       "_view_count": null,
       "_view_module": "@jupyter-widgets/base",
       "_view_module_version": "1.2.0",
       "_view_name": "LayoutView",
       "align_content": null,
       "align_items": null,
       "align_self": null,
       "border": null,
       "bottom": null,
       "display": null,
       "flex": null,
       "flex_flow": null,
       "grid_area": null,
       "grid_auto_columns": null,
       "grid_auto_flow": null,
       "grid_auto_rows": null,
       "grid_column": null,
       "grid_gap": null,
       "grid_row": null,
       "grid_template_areas": null,
       "grid_template_columns": null,
       "grid_template_rows": null,
       "height": null,
       "justify_content": null,
       "justify_items": null,
       "left": null,
       "margin": null,
       "max_height": null,
       "max_width": null,
       "min_height": null,
       "min_width": null,
       "object_fit": null,
       "object_position": null,
       "order": null,
       "overflow": null,
       "overflow_x": null,
       "overflow_y": null,
       "padding": null,
       "right": null,
       "top": null,
       "visibility": null,
       "width": null
      }
     },
     "41903919d1d143ce95a33776843d6c1e": {
      "model_module": "@jupyter-widgets/controls",
      "model_module_version": "1.5.0",
      "model_name": "ProgressStyleModel",
      "state": {
       "_model_module": "@jupyter-widgets/controls",
       "_model_module_version": "1.5.0",
       "_model_name": "ProgressStyleModel",
       "_view_count": null,
       "_view_module": "@jupyter-widgets/base",
       "_view_module_version": "1.2.0",
       "_view_name": "StyleView",
       "bar_color": null,
       "description_width": ""
      }
     },
     "4497a8329dca42b7b8d4158b5018efd1": {
      "model_module": "@jupyter-widgets/controls",
      "model_module_version": "1.5.0",
      "model_name": "HBoxModel",
      "state": {
       "_dom_classes": [],
       "_model_module": "@jupyter-widgets/controls",
       "_model_module_version": "1.5.0",
       "_model_name": "HBoxModel",
       "_view_count": null,
       "_view_module": "@jupyter-widgets/controls",
       "_view_module_version": "1.5.0",
       "_view_name": "HBoxView",
       "box_style": "",
       "children": [
        "IPY_MODEL_20f35252d25b4423b7cb3d1c8f8b4306",
        "IPY_MODEL_c07240faaa18466dbe1658203054b60d",
        "IPY_MODEL_79ac77533df14e77ba22e5df788126a5"
       ],
       "layout": "IPY_MODEL_75b88f40d429402f8ab490c19c10c288"
      }
     },
     "4985e0d3edfd486e9feb2215d30d1537": {
      "model_module": "@jupyter-widgets/base",
      "model_module_version": "1.2.0",
      "model_name": "LayoutModel",
      "state": {
       "_model_module": "@jupyter-widgets/base",
       "_model_module_version": "1.2.0",
       "_model_name": "LayoutModel",
       "_view_count": null,
       "_view_module": "@jupyter-widgets/base",
       "_view_module_version": "1.2.0",
       "_view_name": "LayoutView",
       "align_content": null,
       "align_items": null,
       "align_self": null,
       "border": null,
       "bottom": null,
       "display": null,
       "flex": null,
       "flex_flow": null,
       "grid_area": null,
       "grid_auto_columns": null,
       "grid_auto_flow": null,
       "grid_auto_rows": null,
       "grid_column": null,
       "grid_gap": null,
       "grid_row": null,
       "grid_template_areas": null,
       "grid_template_columns": null,
       "grid_template_rows": null,
       "height": null,
       "justify_content": null,
       "justify_items": null,
       "left": null,
       "margin": null,
       "max_height": null,
       "max_width": null,
       "min_height": null,
       "min_width": null,
       "object_fit": null,
       "object_position": null,
       "order": null,
       "overflow": null,
       "overflow_x": null,
       "overflow_y": null,
       "padding": null,
       "right": null,
       "top": null,
       "visibility": null,
       "width": null
      }
     },
     "4d461cd97c854aed9b929e5429d8a84a": {
      "model_module": "@jupyter-widgets/controls",
      "model_module_version": "1.5.0",
      "model_name": "HTMLModel",
      "state": {
       "_dom_classes": [],
       "_model_module": "@jupyter-widgets/controls",
       "_model_module_version": "1.5.0",
       "_model_name": "HTMLModel",
       "_view_count": null,
       "_view_module": "@jupyter-widgets/controls",
       "_view_module_version": "1.5.0",
       "_view_name": "HTMLView",
       "description": "",
       "description_tooltip": null,
       "layout": "IPY_MODEL_f1c19c07abff42e585c1df6adb256f03",
       "placeholder": "​",
       "style": "IPY_MODEL_b4b5b8f59b04479c900c5edadf4be27d",
       "value": "100%"
      }
     },
     "4e433526397d4895938c3ce973da89c6": {
      "model_module": "@jupyter-widgets/base",
      "model_module_version": "1.2.0",
      "model_name": "LayoutModel",
      "state": {
       "_model_module": "@jupyter-widgets/base",
       "_model_module_version": "1.2.0",
       "_model_name": "LayoutModel",
       "_view_count": null,
       "_view_module": "@jupyter-widgets/base",
       "_view_module_version": "1.2.0",
       "_view_name": "LayoutView",
       "align_content": null,
       "align_items": null,
       "align_self": null,
       "border": null,
       "bottom": null,
       "display": null,
       "flex": null,
       "flex_flow": null,
       "grid_area": null,
       "grid_auto_columns": null,
       "grid_auto_flow": null,
       "grid_auto_rows": null,
       "grid_column": null,
       "grid_gap": null,
       "grid_row": null,
       "grid_template_areas": null,
       "grid_template_columns": null,
       "grid_template_rows": null,
       "height": null,
       "justify_content": null,
       "justify_items": null,
       "left": null,
       "margin": null,
       "max_height": null,
       "max_width": null,
       "min_height": null,
       "min_width": null,
       "object_fit": null,
       "object_position": null,
       "order": null,
       "overflow": null,
       "overflow_x": null,
       "overflow_y": null,
       "padding": null,
       "right": null,
       "top": null,
       "visibility": null,
       "width": null
      }
     },
     "4fde8e1e8ce64d499348760319a4789c": {
      "model_module": "@jupyter-widgets/controls",
      "model_module_version": "1.5.0",
      "model_name": "HTMLModel",
      "state": {
       "_dom_classes": [],
       "_model_module": "@jupyter-widgets/controls",
       "_model_module_version": "1.5.0",
       "_model_name": "HTMLModel",
       "_view_count": null,
       "_view_module": "@jupyter-widgets/controls",
       "_view_module_version": "1.5.0",
       "_view_name": "HTMLView",
       "description": "",
       "description_tooltip": null,
       "layout": "IPY_MODEL_54cc644b4185449f8985e23faedfd60c",
       "placeholder": "​",
       "style": "IPY_MODEL_03ac497f61754ad1b992e7a53f04fced",
       "value": "100%"
      }
     },
     "5255904594ae43e9ac3568d05d3dd2b7": {
      "model_module": "@jupyter-widgets/controls",
      "model_module_version": "1.5.0",
      "model_name": "FloatProgressModel",
      "state": {
       "_dom_classes": [],
       "_model_module": "@jupyter-widgets/controls",
       "_model_module_version": "1.5.0",
       "_model_name": "FloatProgressModel",
       "_view_count": null,
       "_view_module": "@jupyter-widgets/controls",
       "_view_module_version": "1.5.0",
       "_view_name": "ProgressView",
       "bar_style": "success",
       "description": "",
       "description_tooltip": null,
       "layout": "IPY_MODEL_9f8bca0251744f579b106bdd2023b582",
       "max": 1.0,
       "min": 0.0,
       "orientation": "horizontal",
       "style": "IPY_MODEL_41903919d1d143ce95a33776843d6c1e",
       "value": 1.0
      }
     },
     "54cc644b4185449f8985e23faedfd60c": {
      "model_module": "@jupyter-widgets/base",
      "model_module_version": "1.2.0",
      "model_name": "LayoutModel",
      "state": {
       "_model_module": "@jupyter-widgets/base",
       "_model_module_version": "1.2.0",
       "_model_name": "LayoutModel",
       "_view_count": null,
       "_view_module": "@jupyter-widgets/base",
       "_view_module_version": "1.2.0",
       "_view_name": "LayoutView",
       "align_content": null,
       "align_items": null,
       "align_self": null,
       "border": null,
       "bottom": null,
       "display": null,
       "flex": null,
       "flex_flow": null,
       "grid_area": null,
       "grid_auto_columns": null,
       "grid_auto_flow": null,
       "grid_auto_rows": null,
       "grid_column": null,
       "grid_gap": null,
       "grid_row": null,
       "grid_template_areas": null,
       "grid_template_columns": null,
       "grid_template_rows": null,
       "height": null,
       "justify_content": null,
       "justify_items": null,
       "left": null,
       "margin": null,
       "max_height": null,
       "max_width": null,
       "min_height": null,
       "min_width": null,
       "object_fit": null,
       "object_position": null,
       "order": null,
       "overflow": null,
       "overflow_x": null,
       "overflow_y": null,
       "padding": null,
       "right": null,
       "top": null,
       "visibility": null,
       "width": null
      }
     },
     "595a567b31f94e21b082601f1ae4ac60": {
      "model_module": "@jupyter-widgets/controls",
      "model_module_version": "1.5.0",
      "model_name": "DescriptionStyleModel",
      "state": {
       "_model_module": "@jupyter-widgets/controls",
       "_model_module_version": "1.5.0",
       "_model_name": "DescriptionStyleModel",
       "_view_count": null,
       "_view_module": "@jupyter-widgets/base",
       "_view_module_version": "1.2.0",
       "_view_name": "StyleView",
       "description_width": ""
      }
     },
     "5c4ba37ae33f47529c5bfb90e129d28a": {
      "model_module": "@jupyter-widgets/base",
      "model_module_version": "1.2.0",
      "model_name": "LayoutModel",
      "state": {
       "_model_module": "@jupyter-widgets/base",
       "_model_module_version": "1.2.0",
       "_model_name": "LayoutModel",
       "_view_count": null,
       "_view_module": "@jupyter-widgets/base",
       "_view_module_version": "1.2.0",
       "_view_name": "LayoutView",
       "align_content": null,
       "align_items": null,
       "align_self": null,
       "border": null,
       "bottom": null,
       "display": null,
       "flex": null,
       "flex_flow": null,
       "grid_area": null,
       "grid_auto_columns": null,
       "grid_auto_flow": null,
       "grid_auto_rows": null,
       "grid_column": null,
       "grid_gap": null,
       "grid_row": null,
       "grid_template_areas": null,
       "grid_template_columns": null,
       "grid_template_rows": null,
       "height": null,
       "justify_content": null,
       "justify_items": null,
       "left": null,
       "margin": null,
       "max_height": null,
       "max_width": null,
       "min_height": null,
       "min_width": null,
       "object_fit": null,
       "object_position": null,
       "order": null,
       "overflow": null,
       "overflow_x": null,
       "overflow_y": null,
       "padding": null,
       "right": null,
       "top": null,
       "visibility": null,
       "width": null
      }
     },
     "6f27812152c448aea4b66d7792a3896a": {
      "model_module": "@jupyter-widgets/controls",
      "model_module_version": "1.5.0",
      "model_name": "HTMLModel",
      "state": {
       "_dom_classes": [],
       "_model_module": "@jupyter-widgets/controls",
       "_model_module_version": "1.5.0",
       "_model_name": "HTMLModel",
       "_view_count": null,
       "_view_module": "@jupyter-widgets/controls",
       "_view_module_version": "1.5.0",
       "_view_name": "HTMLView",
       "description": "",
       "description_tooltip": null,
       "layout": "IPY_MODEL_185245a978704bf5b829e51a083113ff",
       "placeholder": "​",
       "style": "IPY_MODEL_a228a854e4704daa931f4707b1b1d72e",
       "value": "100%"
      }
     },
     "72bee7fb2c5348f8af20b138a2c11abd": {
      "model_module": "@jupyter-widgets/controls",
      "model_module_version": "1.5.0",
      "model_name": "ProgressStyleModel",
      "state": {
       "_model_module": "@jupyter-widgets/controls",
       "_model_module_version": "1.5.0",
       "_model_name": "ProgressStyleModel",
       "_view_count": null,
       "_view_module": "@jupyter-widgets/base",
       "_view_module_version": "1.2.0",
       "_view_name": "StyleView",
       "bar_color": null,
       "description_width": ""
      }
     },
     "75b88f40d429402f8ab490c19c10c288": {
      "model_module": "@jupyter-widgets/base",
      "model_module_version": "1.2.0",
      "model_name": "LayoutModel",
      "state": {
       "_model_module": "@jupyter-widgets/base",
       "_model_module_version": "1.2.0",
       "_model_name": "LayoutModel",
       "_view_count": null,
       "_view_module": "@jupyter-widgets/base",
       "_view_module_version": "1.2.0",
       "_view_name": "LayoutView",
       "align_content": null,
       "align_items": null,
       "align_self": null,
       "border": null,
       "bottom": null,
       "display": null,
       "flex": null,
       "flex_flow": null,
       "grid_area": null,
       "grid_auto_columns": null,
       "grid_auto_flow": null,
       "grid_auto_rows": null,
       "grid_column": null,
       "grid_gap": null,
       "grid_row": null,
       "grid_template_areas": null,
       "grid_template_columns": null,
       "grid_template_rows": null,
       "height": null,
       "justify_content": null,
       "justify_items": null,
       "left": null,
       "margin": null,
       "max_height": null,
       "max_width": null,
       "min_height": null,
       "min_width": null,
       "object_fit": null,
       "object_position": null,
       "order": null,
       "overflow": null,
       "overflow_x": null,
       "overflow_y": null,
       "padding": null,
       "right": null,
       "top": null,
       "visibility": null,
       "width": null
      }
     },
     "79ac77533df14e77ba22e5df788126a5": {
      "model_module": "@jupyter-widgets/controls",
      "model_module_version": "1.5.0",
      "model_name": "HTMLModel",
      "state": {
       "_dom_classes": [],
       "_model_module": "@jupyter-widgets/controls",
       "_model_module_version": "1.5.0",
       "_model_name": "HTMLModel",
       "_view_count": null,
       "_view_module": "@jupyter-widgets/controls",
       "_view_module_version": "1.5.0",
       "_view_name": "HTMLView",
       "description": "",
       "description_tooltip": null,
       "layout": "IPY_MODEL_4e433526397d4895938c3ce973da89c6",
       "placeholder": "​",
       "style": "IPY_MODEL_9e1e3aef585a4cd7b2ca58c05ac32f4c",
       "value": " 1/1 [00:04&lt;00:00,  4.69s/ba]"
      }
     },
     "7d94565836bf48699d307a3d8e808513": {
      "model_module": "@jupyter-widgets/controls",
      "model_module_version": "1.5.0",
      "model_name": "HTMLModel",
      "state": {
       "_dom_classes": [],
       "_model_module": "@jupyter-widgets/controls",
       "_model_module_version": "1.5.0",
       "_model_name": "HTMLModel",
       "_view_count": null,
       "_view_module": "@jupyter-widgets/controls",
       "_view_module_version": "1.5.0",
       "_view_name": "HTMLView",
       "description": "",
       "description_tooltip": null,
       "layout": "IPY_MODEL_a0caa81f161b45aaa761288f224d11f2",
       "placeholder": "​",
       "style": "IPY_MODEL_acc5ef205e554d23b68100b58361ee16",
       "value": " 843/843 [00:01&lt;00:00, 581.69ex/s]"
      }
     },
     "7ddcc086846a481fa3bfc3d3d5553f0e": {
      "model_module": "@jupyter-widgets/controls",
      "model_module_version": "1.5.0",
      "model_name": "ProgressStyleModel",
      "state": {
       "_model_module": "@jupyter-widgets/controls",
       "_model_module_version": "1.5.0",
       "_model_name": "ProgressStyleModel",
       "_view_count": null,
       "_view_module": "@jupyter-widgets/base",
       "_view_module_version": "1.2.0",
       "_view_name": "StyleView",
       "bar_color": null,
       "description_width": ""
      }
     },
     "7e9e775e6be94a898adcb3490c8c1696": {
      "model_module": "@jupyter-widgets/controls",
      "model_module_version": "1.5.0",
      "model_name": "HTMLModel",
      "state": {
       "_dom_classes": [],
       "_model_module": "@jupyter-widgets/controls",
       "_model_module_version": "1.5.0",
       "_model_name": "HTMLModel",
       "_view_count": null,
       "_view_module": "@jupyter-widgets/controls",
       "_view_module_version": "1.5.0",
       "_view_name": "HTMLView",
       "description": "",
       "description_tooltip": null,
       "layout": "IPY_MODEL_20559d76c0bc48c8b812cfc9f52bb014",
       "placeholder": "​",
       "style": "IPY_MODEL_ba4ea85623bd4e06b5dd13720b3f412c",
       "value": "100%"
      }
     },
     "83daa5f8375f4d6fb37c887d50945bc1": {
      "model_module": "@jupyter-widgets/controls",
      "model_module_version": "1.5.0",
      "model_name": "HTMLModel",
      "state": {
       "_dom_classes": [],
       "_model_module": "@jupyter-widgets/controls",
       "_model_module_version": "1.5.0",
       "_model_name": "HTMLModel",
       "_view_count": null,
       "_view_module": "@jupyter-widgets/controls",
       "_view_module_version": "1.5.0",
       "_view_name": "HTMLView",
       "description": "",
       "description_tooltip": null,
       "layout": "IPY_MODEL_5c4ba37ae33f47529c5bfb90e129d28a",
       "placeholder": "​",
       "style": "IPY_MODEL_06678a3e4c1f405da38db79e5a71456d",
       "value": " 1/1 [00:23&lt;00:00, 23.22s/ba]"
      }
     },
     "86462c1dc0a34be1a025f4029f950e67": {
      "model_module": "@jupyter-widgets/controls",
      "model_module_version": "1.5.0",
      "model_name": "DescriptionStyleModel",
      "state": {
       "_model_module": "@jupyter-widgets/controls",
       "_model_module_version": "1.5.0",
       "_model_name": "DescriptionStyleModel",
       "_view_count": null,
       "_view_module": "@jupyter-widgets/base",
       "_view_module_version": "1.2.0",
       "_view_name": "StyleView",
       "description_width": ""
      }
     },
     "8f70cfaf405e4929b528dc4ae7eec34b": {
      "model_module": "@jupyter-widgets/base",
      "model_module_version": "1.2.0",
      "model_name": "LayoutModel",
      "state": {
       "_model_module": "@jupyter-widgets/base",
       "_model_module_version": "1.2.0",
       "_model_name": "LayoutModel",
       "_view_count": null,
       "_view_module": "@jupyter-widgets/base",
       "_view_module_version": "1.2.0",
       "_view_name": "LayoutView",
       "align_content": null,
       "align_items": null,
       "align_self": null,
       "border": null,
       "bottom": null,
       "display": null,
       "flex": null,
       "flex_flow": null,
       "grid_area": null,
       "grid_auto_columns": null,
       "grid_auto_flow": null,
       "grid_auto_rows": null,
       "grid_column": null,
       "grid_gap": null,
       "grid_row": null,
       "grid_template_areas": null,
       "grid_template_columns": null,
       "grid_template_rows": null,
       "height": null,
       "justify_content": null,
       "justify_items": null,
       "left": null,
       "margin": null,
       "max_height": null,
       "max_width": null,
       "min_height": null,
       "min_width": null,
       "object_fit": null,
       "object_position": null,
       "order": null,
       "overflow": null,
       "overflow_x": null,
       "overflow_y": null,
       "padding": null,
       "right": null,
       "top": null,
       "visibility": null,
       "width": null
      }
     },
     "8fe0f8c25afe4f779dd94dd497597141": {
      "model_module": "@jupyter-widgets/controls",
      "model_module_version": "1.5.0",
      "model_name": "HBoxModel",
      "state": {
       "_dom_classes": [],
       "_model_module": "@jupyter-widgets/controls",
       "_model_module_version": "1.5.0",
       "_model_name": "HBoxModel",
       "_view_count": null,
       "_view_module": "@jupyter-widgets/controls",
       "_view_module_version": "1.5.0",
       "_view_name": "HBoxView",
       "box_style": "",
       "children": [
        "IPY_MODEL_6f27812152c448aea4b66d7792a3896a",
        "IPY_MODEL_2efd9a03fadd4550b7b2cc333dfc3cd1",
        "IPY_MODEL_b2375134953648c7a858d274cc3ed793"
       ],
       "layout": "IPY_MODEL_ab65945c1ba9472bbcb67d5f2a08b9dd"
      }
     },
     "9260acebcbde4e9eb21cb1727314d168": {
      "model_module": "@jupyter-widgets/controls",
      "model_module_version": "1.5.0",
      "model_name": "FloatProgressModel",
      "state": {
       "_dom_classes": [],
       "_model_module": "@jupyter-widgets/controls",
       "_model_module_version": "1.5.0",
       "_model_name": "FloatProgressModel",
       "_view_count": null,
       "_view_module": "@jupyter-widgets/controls",
       "_view_module_version": "1.5.0",
       "_view_name": "ProgressView",
       "bar_style": "success",
       "description": "",
       "description_tooltip": null,
       "layout": "IPY_MODEL_170b9599ef8541fba4b8c0e2945bc1b2",
       "max": 843.0,
       "min": 0.0,
       "orientation": "horizontal",
       "style": "IPY_MODEL_3133ceac8a3b464b84f6b46b9f7f0ec2",
       "value": 843.0
      }
     },
     "9cfec2c4ce43459e8a01fc834c1c8016": {
      "model_module": "@jupyter-widgets/controls",
      "model_module_version": "1.5.0",
      "model_name": "HTMLModel",
      "state": {
       "_dom_classes": [],
       "_model_module": "@jupyter-widgets/controls",
       "_model_module_version": "1.5.0",
       "_model_name": "HTMLModel",
       "_view_count": null,
       "_view_module": "@jupyter-widgets/controls",
       "_view_module_version": "1.5.0",
       "_view_name": "HTMLView",
       "description": "",
       "description_tooltip": null,
       "layout": "IPY_MODEL_ffa9395d005f49eb808c1d0a34fccab5",
       "placeholder": "​",
       "style": "IPY_MODEL_b84c29a2d00847da91cd0ff6715b8db8",
       "value": " 1/1 [00:08&lt;00:00,  8.92s/ba]"
      }
     },
     "9e1e3aef585a4cd7b2ca58c05ac32f4c": {
      "model_module": "@jupyter-widgets/controls",
      "model_module_version": "1.5.0",
      "model_name": "DescriptionStyleModel",
      "state": {
       "_model_module": "@jupyter-widgets/controls",
       "_model_module_version": "1.5.0",
       "_model_name": "DescriptionStyleModel",
       "_view_count": null,
       "_view_module": "@jupyter-widgets/base",
       "_view_module_version": "1.2.0",
       "_view_name": "StyleView",
       "description_width": ""
      }
     },
     "9f8bca0251744f579b106bdd2023b582": {
      "model_module": "@jupyter-widgets/base",
      "model_module_version": "1.2.0",
      "model_name": "LayoutModel",
      "state": {
       "_model_module": "@jupyter-widgets/base",
       "_model_module_version": "1.2.0",
       "_model_name": "LayoutModel",
       "_view_count": null,
       "_view_module": "@jupyter-widgets/base",
       "_view_module_version": "1.2.0",
       "_view_name": "LayoutView",
       "align_content": null,
       "align_items": null,
       "align_self": null,
       "border": null,
       "bottom": null,
       "display": null,
       "flex": null,
       "flex_flow": null,
       "grid_area": null,
       "grid_auto_columns": null,
       "grid_auto_flow": null,
       "grid_auto_rows": null,
       "grid_column": null,
       "grid_gap": null,
       "grid_row": null,
       "grid_template_areas": null,
       "grid_template_columns": null,
       "grid_template_rows": null,
       "height": null,
       "justify_content": null,
       "justify_items": null,
       "left": null,
       "margin": null,
       "max_height": null,
       "max_width": null,
       "min_height": null,
       "min_width": null,
       "object_fit": null,
       "object_position": null,
       "order": null,
       "overflow": null,
       "overflow_x": null,
       "overflow_y": null,
       "padding": null,
       "right": null,
       "top": null,
       "visibility": null,
       "width": null
      }
     },
     "a0caa81f161b45aaa761288f224d11f2": {
      "model_module": "@jupyter-widgets/base",
      "model_module_version": "1.2.0",
      "model_name": "LayoutModel",
      "state": {
       "_model_module": "@jupyter-widgets/base",
       "_model_module_version": "1.2.0",
       "_model_name": "LayoutModel",
       "_view_count": null,
       "_view_module": "@jupyter-widgets/base",
       "_view_module_version": "1.2.0",
       "_view_name": "LayoutView",
       "align_content": null,
       "align_items": null,
       "align_self": null,
       "border": null,
       "bottom": null,
       "display": null,
       "flex": null,
       "flex_flow": null,
       "grid_area": null,
       "grid_auto_columns": null,
       "grid_auto_flow": null,
       "grid_auto_rows": null,
       "grid_column": null,
       "grid_gap": null,
       "grid_row": null,
       "grid_template_areas": null,
       "grid_template_columns": null,
       "grid_template_rows": null,
       "height": null,
       "justify_content": null,
       "justify_items": null,
       "left": null,
       "margin": null,
       "max_height": null,
       "max_width": null,
       "min_height": null,
       "min_width": null,
       "object_fit": null,
       "object_position": null,
       "order": null,
       "overflow": null,
       "overflow_x": null,
       "overflow_y": null,
       "padding": null,
       "right": null,
       "top": null,
       "visibility": null,
       "width": null
      }
     },
     "a228a854e4704daa931f4707b1b1d72e": {
      "model_module": "@jupyter-widgets/controls",
      "model_module_version": "1.5.0",
      "model_name": "DescriptionStyleModel",
      "state": {
       "_model_module": "@jupyter-widgets/controls",
       "_model_module_version": "1.5.0",
       "_model_name": "DescriptionStyleModel",
       "_view_count": null,
       "_view_module": "@jupyter-widgets/base",
       "_view_module_version": "1.2.0",
       "_view_name": "StyleView",
       "description_width": ""
      }
     },
     "a261180400074e21bf2883025cdd0a05": {
      "model_module": "@jupyter-widgets/controls",
      "model_module_version": "1.5.0",
      "model_name": "FloatProgressModel",
      "state": {
       "_dom_classes": [],
       "_model_module": "@jupyter-widgets/controls",
       "_model_module_version": "1.5.0",
       "_model_name": "FloatProgressModel",
       "_view_count": null,
       "_view_module": "@jupyter-widgets/controls",
       "_view_module_version": "1.5.0",
       "_view_name": "ProgressView",
       "bar_style": "success",
       "description": "",
       "description_tooltip": null,
       "layout": "IPY_MODEL_cf50ca630a07427782d6dc82c5953470",
       "max": 1.0,
       "min": 0.0,
       "orientation": "horizontal",
       "style": "IPY_MODEL_7ddcc086846a481fa3bfc3d3d5553f0e",
       "value": 1.0
      }
     },
     "a29ac9fe93414ed3998fc658edbde676": {
      "model_module": "@jupyter-widgets/controls",
      "model_module_version": "1.5.0",
      "model_name": "HBoxModel",
      "state": {
       "_dom_classes": [],
       "_model_module": "@jupyter-widgets/controls",
       "_model_module_version": "1.5.0",
       "_model_name": "HBoxModel",
       "_view_count": null,
       "_view_module": "@jupyter-widgets/controls",
       "_view_module_version": "1.5.0",
       "_view_name": "HBoxView",
       "box_style": "",
       "children": [
        "IPY_MODEL_4d461cd97c854aed9b929e5429d8a84a",
        "IPY_MODEL_29a8fd91b59d4d0480f525c668543115",
        "IPY_MODEL_83daa5f8375f4d6fb37c887d50945bc1"
       ],
       "layout": "IPY_MODEL_fe5ee8bc316f446b8ba809160dff7ba7"
      }
     },
     "ab65945c1ba9472bbcb67d5f2a08b9dd": {
      "model_module": "@jupyter-widgets/base",
      "model_module_version": "1.2.0",
      "model_name": "LayoutModel",
      "state": {
       "_model_module": "@jupyter-widgets/base",
       "_model_module_version": "1.2.0",
       "_model_name": "LayoutModel",
       "_view_count": null,
       "_view_module": "@jupyter-widgets/base",
       "_view_module_version": "1.2.0",
       "_view_name": "LayoutView",
       "align_content": null,
       "align_items": null,
       "align_self": null,
       "border": null,
       "bottom": null,
       "display": null,
       "flex": null,
       "flex_flow": null,
       "grid_area": null,
       "grid_auto_columns": null,
       "grid_auto_flow": null,
       "grid_auto_rows": null,
       "grid_column": null,
       "grid_gap": null,
       "grid_row": null,
       "grid_template_areas": null,
       "grid_template_columns": null,
       "grid_template_rows": null,
       "height": null,
       "justify_content": null,
       "justify_items": null,
       "left": null,
       "margin": null,
       "max_height": null,
       "max_width": null,
       "min_height": null,
       "min_width": null,
       "object_fit": null,
       "object_position": null,
       "order": null,
       "overflow": null,
       "overflow_x": null,
       "overflow_y": null,
       "padding": null,
       "right": null,
       "top": null,
       "visibility": null,
       "width": null
      }
     },
     "acc5ef205e554d23b68100b58361ee16": {
      "model_module": "@jupyter-widgets/controls",
      "model_module_version": "1.5.0",
      "model_name": "DescriptionStyleModel",
      "state": {
       "_model_module": "@jupyter-widgets/controls",
       "_model_module_version": "1.5.0",
       "_model_name": "DescriptionStyleModel",
       "_view_count": null,
       "_view_module": "@jupyter-widgets/base",
       "_view_module_version": "1.2.0",
       "_view_name": "StyleView",
       "description_width": ""
      }
     },
     "af97e3bf936a458db7b8d3cbeb0c9d5c": {
      "model_module": "@jupyter-widgets/controls",
      "model_module_version": "1.5.0",
      "model_name": "FloatProgressModel",
      "state": {
       "_dom_classes": [],
       "_model_module": "@jupyter-widgets/controls",
       "_model_module_version": "1.5.0",
       "_model_name": "FloatProgressModel",
       "_view_count": null,
       "_view_module": "@jupyter-widgets/controls",
       "_view_module_version": "1.5.0",
       "_view_name": "ProgressView",
       "bar_style": "success",
       "description": "",
       "description_tooltip": null,
       "layout": "IPY_MODEL_c5d2f72f363f4d95889f35ce98497798",
       "max": 64.0,
       "min": 0.0,
       "orientation": "horizontal",
       "style": "IPY_MODEL_72bee7fb2c5348f8af20b138a2c11abd",
       "value": 64.0
      }
     },
     "afbd0592d43e4fe798aa07acc361e922": {
      "model_module": "@jupyter-widgets/controls",
      "model_module_version": "1.5.0",
      "model_name": "DescriptionStyleModel",
      "state": {
       "_model_module": "@jupyter-widgets/controls",
       "_model_module_version": "1.5.0",
       "_model_name": "DescriptionStyleModel",
       "_view_count": null,
       "_view_module": "@jupyter-widgets/base",
       "_view_module_version": "1.2.0",
       "_view_name": "StyleView",
       "description_width": ""
      }
     },
     "b2375134953648c7a858d274cc3ed793": {
      "model_module": "@jupyter-widgets/controls",
      "model_module_version": "1.5.0",
      "model_name": "HTMLModel",
      "state": {
       "_dom_classes": [],
       "_model_module": "@jupyter-widgets/controls",
       "_model_module_version": "1.5.0",
       "_model_name": "HTMLModel",
       "_view_count": null,
       "_view_module": "@jupyter-widgets/controls",
       "_view_module_version": "1.5.0",
       "_view_name": "HTMLView",
       "description": "",
       "description_tooltip": null,
       "layout": "IPY_MODEL_3f0e7f4aeef64ec6899f0da3453553b8",
       "placeholder": "​",
       "style": "IPY_MODEL_2d4110313c094bfc82f4f9cd0c8f505c",
       "value": " 1/1 [00:02&lt;00:00,  2.52s/ba]"
      }
     },
     "b4b5b8f59b04479c900c5edadf4be27d": {
      "model_module": "@jupyter-widgets/controls",
      "model_module_version": "1.5.0",
      "model_name": "DescriptionStyleModel",
      "state": {
       "_model_module": "@jupyter-widgets/controls",
       "_model_module_version": "1.5.0",
       "_model_name": "DescriptionStyleModel",
       "_view_count": null,
       "_view_module": "@jupyter-widgets/base",
       "_view_module_version": "1.2.0",
       "_view_name": "StyleView",
       "description_width": ""
      }
     },
     "b84c29a2d00847da91cd0ff6715b8db8": {
      "model_module": "@jupyter-widgets/controls",
      "model_module_version": "1.5.0",
      "model_name": "DescriptionStyleModel",
      "state": {
       "_model_module": "@jupyter-widgets/controls",
       "_model_module_version": "1.5.0",
       "_model_name": "DescriptionStyleModel",
       "_view_count": null,
       "_view_module": "@jupyter-widgets/base",
       "_view_module_version": "1.2.0",
       "_view_name": "StyleView",
       "description_width": ""
      }
     },
     "ba4ea85623bd4e06b5dd13720b3f412c": {
      "model_module": "@jupyter-widgets/controls",
      "model_module_version": "1.5.0",
      "model_name": "DescriptionStyleModel",
      "state": {
       "_model_module": "@jupyter-widgets/controls",
       "_model_module_version": "1.5.0",
       "_model_name": "DescriptionStyleModel",
       "_view_count": null,
       "_view_module": "@jupyter-widgets/base",
       "_view_module_version": "1.2.0",
       "_view_name": "StyleView",
       "description_width": ""
      }
     },
     "c07240faaa18466dbe1658203054b60d": {
      "model_module": "@jupyter-widgets/controls",
      "model_module_version": "1.5.0",
      "model_name": "FloatProgressModel",
      "state": {
       "_dom_classes": [],
       "_model_module": "@jupyter-widgets/controls",
       "_model_module_version": "1.5.0",
       "_model_name": "FloatProgressModel",
       "_view_count": null,
       "_view_module": "@jupyter-widgets/controls",
       "_view_module_version": "1.5.0",
       "_view_name": "ProgressView",
       "bar_style": "success",
       "description": "",
       "description_tooltip": null,
       "layout": "IPY_MODEL_075809dc25d644b6bfb0511a47b8b226",
       "max": 1.0,
       "min": 0.0,
       "orientation": "horizontal",
       "style": "IPY_MODEL_ef7fff5a96f44b8496df1fd5cb909a3d",
       "value": 1.0
      }
     },
     "c5d2f72f363f4d95889f35ce98497798": {
      "model_module": "@jupyter-widgets/base",
      "model_module_version": "1.2.0",
      "model_name": "LayoutModel",
      "state": {
       "_model_module": "@jupyter-widgets/base",
       "_model_module_version": "1.2.0",
       "_model_name": "LayoutModel",
       "_view_count": null,
       "_view_module": "@jupyter-widgets/base",
       "_view_module_version": "1.2.0",
       "_view_name": "LayoutView",
       "align_content": null,
       "align_items": null,
       "align_self": null,
       "border": null,
       "bottom": null,
       "display": null,
       "flex": null,
       "flex_flow": null,
       "grid_area": null,
       "grid_auto_columns": null,
       "grid_auto_flow": null,
       "grid_auto_rows": null,
       "grid_column": null,
       "grid_gap": null,
       "grid_row": null,
       "grid_template_areas": null,
       "grid_template_columns": null,
       "grid_template_rows": null,
       "height": null,
       "justify_content": null,
       "justify_items": null,
       "left": null,
       "margin": null,
       "max_height": null,
       "max_width": null,
       "min_height": null,
       "min_width": null,
       "object_fit": null,
       "object_position": null,
       "order": null,
       "overflow": null,
       "overflow_x": null,
       "overflow_y": null,
       "padding": null,
       "right": null,
       "top": null,
       "visibility": null,
       "width": null
      }
     },
     "ce8613196c39479ab5d2a2734d1b2c66": {
      "model_module": "@jupyter-widgets/controls",
      "model_module_version": "1.5.0",
      "model_name": "HTMLModel",
      "state": {
       "_dom_classes": [],
       "_model_module": "@jupyter-widgets/controls",
       "_model_module_version": "1.5.0",
       "_model_name": "HTMLModel",
       "_view_count": null,
       "_view_module": "@jupyter-widgets/controls",
       "_view_module_version": "1.5.0",
       "_view_name": "HTMLView",
       "description": "",
       "description_tooltip": null,
       "layout": "IPY_MODEL_35112ace52894b39b11e97109a392a99",
       "placeholder": "​",
       "style": "IPY_MODEL_05ce1e22203243b5812b8253af122a3b",
       "value": " 64/64 [00:03&lt;00:00, 16.06it/s]"
      }
     },
     "cf50ca630a07427782d6dc82c5953470": {
      "model_module": "@jupyter-widgets/base",
      "model_module_version": "1.2.0",
      "model_name": "LayoutModel",
      "state": {
       "_model_module": "@jupyter-widgets/base",
       "_model_module_version": "1.2.0",
       "_model_name": "LayoutModel",
       "_view_count": null,
       "_view_module": "@jupyter-widgets/base",
       "_view_module_version": "1.2.0",
       "_view_name": "LayoutView",
       "align_content": null,
       "align_items": null,
       "align_self": null,
       "border": null,
       "bottom": null,
       "display": null,
       "flex": null,
       "flex_flow": null,
       "grid_area": null,
       "grid_auto_columns": null,
       "grid_auto_flow": null,
       "grid_auto_rows": null,
       "grid_column": null,
       "grid_gap": null,
       "grid_row": null,
       "grid_template_areas": null,
       "grid_template_columns": null,
       "grid_template_rows": null,
       "height": null,
       "justify_content": null,
       "justify_items": null,
       "left": null,
       "margin": null,
       "max_height": null,
       "max_width": null,
       "min_height": null,
       "min_width": null,
       "object_fit": null,
       "object_position": null,
       "order": null,
       "overflow": null,
       "overflow_x": null,
       "overflow_y": null,
       "padding": null,
       "right": null,
       "top": null,
       "visibility": null,
       "width": null
      }
     },
     "d5ee732951cc46ce984172a0372f9d83": {
      "model_module": "@jupyter-widgets/base",
      "model_module_version": "1.2.0",
      "model_name": "LayoutModel",
      "state": {
       "_model_module": "@jupyter-widgets/base",
       "_model_module_version": "1.2.0",
       "_model_name": "LayoutModel",
       "_view_count": null,
       "_view_module": "@jupyter-widgets/base",
       "_view_module_version": "1.2.0",
       "_view_name": "LayoutView",
       "align_content": null,
       "align_items": null,
       "align_self": null,
       "border": null,
       "bottom": null,
       "display": null,
       "flex": null,
       "flex_flow": null,
       "grid_area": null,
       "grid_auto_columns": null,
       "grid_auto_flow": null,
       "grid_auto_rows": null,
       "grid_column": null,
       "grid_gap": null,
       "grid_row": null,
       "grid_template_areas": null,
       "grid_template_columns": null,
       "grid_template_rows": null,
       "height": null,
       "justify_content": null,
       "justify_items": null,
       "left": null,
       "margin": null,
       "max_height": null,
       "max_width": null,
       "min_height": null,
       "min_width": null,
       "object_fit": null,
       "object_position": null,
       "order": null,
       "overflow": null,
       "overflow_x": null,
       "overflow_y": null,
       "padding": null,
       "right": null,
       "top": null,
       "visibility": null,
       "width": null
      }
     },
     "e2ee514b68044bcdad01377a1a2b1101": {
      "model_module": "@jupyter-widgets/controls",
      "model_module_version": "1.5.0",
      "model_name": "HTMLModel",
      "state": {
       "_dom_classes": [],
       "_model_module": "@jupyter-widgets/controls",
       "_model_module_version": "1.5.0",
       "_model_name": "HTMLModel",
       "_view_count": null,
       "_view_module": "@jupyter-widgets/controls",
       "_view_module_version": "1.5.0",
       "_view_name": "HTMLView",
       "description": "",
       "description_tooltip": null,
       "layout": "IPY_MODEL_291c23dc171742edaa191393ab0c5319",
       "placeholder": "​",
       "style": "IPY_MODEL_595a567b31f94e21b082601f1ae4ac60",
       "value": " 1/1 [00:01&lt;00:00,  1.36s/ba]"
      }
     },
     "e6b73d40f77d472bb4d59d29afbc70b5": {
      "model_module": "@jupyter-widgets/controls",
      "model_module_version": "1.5.0",
      "model_name": "HTMLModel",
      "state": {
       "_dom_classes": [],
       "_model_module": "@jupyter-widgets/controls",
       "_model_module_version": "1.5.0",
       "_model_name": "HTMLModel",
       "_view_count": null,
       "_view_module": "@jupyter-widgets/controls",
       "_view_module_version": "1.5.0",
       "_view_name": "HTMLView",
       "description": "",
       "description_tooltip": null,
       "layout": "IPY_MODEL_1db058039c30421d96b0d15b99bedd65",
       "placeholder": "​",
       "style": "IPY_MODEL_afbd0592d43e4fe798aa07acc361e922",
       "value": "100%"
      }
     },
     "ed91c3c9280a47138ad8c2542b29cd08": {
      "model_module": "@jupyter-widgets/base",
      "model_module_version": "1.2.0",
      "model_name": "LayoutModel",
      "state": {
       "_model_module": "@jupyter-widgets/base",
       "_model_module_version": "1.2.0",
       "_model_name": "LayoutModel",
       "_view_count": null,
       "_view_module": "@jupyter-widgets/base",
       "_view_module_version": "1.2.0",
       "_view_name": "LayoutView",
       "align_content": null,
       "align_items": null,
       "align_self": null,
       "border": null,
       "bottom": null,
       "display": null,
       "flex": null,
       "flex_flow": null,
       "grid_area": null,
       "grid_auto_columns": null,
       "grid_auto_flow": null,
       "grid_auto_rows": null,
       "grid_column": null,
       "grid_gap": null,
       "grid_row": null,
       "grid_template_areas": null,
       "grid_template_columns": null,
       "grid_template_rows": null,
       "height": null,
       "justify_content": null,
       "justify_items": null,
       "left": null,
       "margin": null,
       "max_height": null,
       "max_width": null,
       "min_height": null,
       "min_width": null,
       "object_fit": null,
       "object_position": null,
       "order": null,
       "overflow": null,
       "overflow_x": null,
       "overflow_y": null,
       "padding": null,
       "right": null,
       "top": null,
       "visibility": null,
       "width": null
      }
     },
     "ee748f2be05f4ec29e2a99bb8923b07c": {
      "model_module": "@jupyter-widgets/controls",
      "model_module_version": "1.5.0",
      "model_name": "HBoxModel",
      "state": {
       "_dom_classes": [],
       "_model_module": "@jupyter-widgets/controls",
       "_model_module_version": "1.5.0",
       "_model_name": "HBoxModel",
       "_view_count": null,
       "_view_module": "@jupyter-widgets/controls",
       "_view_module_version": "1.5.0",
       "_view_name": "HBoxView",
       "box_style": "",
       "children": [
        "IPY_MODEL_e6b73d40f77d472bb4d59d29afbc70b5",
        "IPY_MODEL_a261180400074e21bf2883025cdd0a05",
        "IPY_MODEL_e2ee514b68044bcdad01377a1a2b1101"
       ],
       "layout": "IPY_MODEL_4985e0d3edfd486e9feb2215d30d1537"
      }
     },
     "ef7fff5a96f44b8496df1fd5cb909a3d": {
      "model_module": "@jupyter-widgets/controls",
      "model_module_version": "1.5.0",
      "model_name": "ProgressStyleModel",
      "state": {
       "_model_module": "@jupyter-widgets/controls",
       "_model_module_version": "1.5.0",
       "_model_name": "ProgressStyleModel",
       "_view_count": null,
       "_view_module": "@jupyter-widgets/base",
       "_view_module_version": "1.2.0",
       "_view_name": "StyleView",
       "bar_color": null,
       "description_width": ""
      }
     },
     "f1c19c07abff42e585c1df6adb256f03": {
      "model_module": "@jupyter-widgets/base",
      "model_module_version": "1.2.0",
      "model_name": "LayoutModel",
      "state": {
       "_model_module": "@jupyter-widgets/base",
       "_model_module_version": "1.2.0",
       "_model_name": "LayoutModel",
       "_view_count": null,
       "_view_module": "@jupyter-widgets/base",
       "_view_module_version": "1.2.0",
       "_view_name": "LayoutView",
       "align_content": null,
       "align_items": null,
       "align_self": null,
       "border": null,
       "bottom": null,
       "display": null,
       "flex": null,
       "flex_flow": null,
       "grid_area": null,
       "grid_auto_columns": null,
       "grid_auto_flow": null,
       "grid_auto_rows": null,
       "grid_column": null,
       "grid_gap": null,
       "grid_row": null,
       "grid_template_areas": null,
       "grid_template_columns": null,
       "grid_template_rows": null,
       "height": null,
       "justify_content": null,
       "justify_items": null,
       "left": null,
       "margin": null,
       "max_height": null,
       "max_width": null,
       "min_height": null,
       "min_width": null,
       "object_fit": null,
       "object_position": null,
       "order": null,
       "overflow": null,
       "overflow_x": null,
       "overflow_y": null,
       "padding": null,
       "right": null,
       "top": null,
       "visibility": null,
       "width": null
      }
     },
     "f37b101450a144bd87dbc0ef96d190bb": {
      "model_module": "@jupyter-widgets/base",
      "model_module_version": "1.2.0",
      "model_name": "LayoutModel",
      "state": {
       "_model_module": "@jupyter-widgets/base",
       "_model_module_version": "1.2.0",
       "_model_name": "LayoutModel",
       "_view_count": null,
       "_view_module": "@jupyter-widgets/base",
       "_view_module_version": "1.2.0",
       "_view_name": "LayoutView",
       "align_content": null,
       "align_items": null,
       "align_self": null,
       "border": null,
       "bottom": null,
       "display": null,
       "flex": null,
       "flex_flow": null,
       "grid_area": null,
       "grid_auto_columns": null,
       "grid_auto_flow": null,
       "grid_auto_rows": null,
       "grid_column": null,
       "grid_gap": null,
       "grid_row": null,
       "grid_template_areas": null,
       "grid_template_columns": null,
       "grid_template_rows": null,
       "height": null,
       "justify_content": null,
       "justify_items": null,
       "left": null,
       "margin": null,
       "max_height": null,
       "max_width": null,
       "min_height": null,
       "min_width": null,
       "object_fit": null,
       "object_position": null,
       "order": null,
       "overflow": null,
       "overflow_x": null,
       "overflow_y": null,
       "padding": null,
       "right": null,
       "top": null,
       "visibility": null,
       "width": null
      }
     },
     "f3c1565987584acaa83cdfe3c9f90c04": {
      "model_module": "@jupyter-widgets/controls",
      "model_module_version": "1.5.0",
      "model_name": "ProgressStyleModel",
      "state": {
       "_model_module": "@jupyter-widgets/controls",
       "_model_module_version": "1.5.0",
       "_model_name": "ProgressStyleModel",
       "_view_count": null,
       "_view_module": "@jupyter-widgets/base",
       "_view_module_version": "1.2.0",
       "_view_name": "StyleView",
       "bar_color": null,
       "description_width": ""
      }
     },
     "f7242eb53ee94ff59d115fd838614923": {
      "model_module": "@jupyter-widgets/controls",
      "model_module_version": "1.5.0",
      "model_name": "HBoxModel",
      "state": {
       "_dom_classes": [],
       "_model_module": "@jupyter-widgets/controls",
       "_model_module_version": "1.5.0",
       "_model_name": "HBoxModel",
       "_view_count": null,
       "_view_module": "@jupyter-widgets/controls",
       "_view_module_version": "1.5.0",
       "_view_name": "HBoxView",
       "box_style": "",
       "children": [
        "IPY_MODEL_22d0491ab2a64ebb9896b6e9451ad50b",
        "IPY_MODEL_af97e3bf936a458db7b8d3cbeb0c9d5c",
        "IPY_MODEL_ce8613196c39479ab5d2a2734d1b2c66"
       ],
       "layout": "IPY_MODEL_f37b101450a144bd87dbc0ef96d190bb"
      }
     },
     "fe5ee8bc316f446b8ba809160dff7ba7": {
      "model_module": "@jupyter-widgets/base",
      "model_module_version": "1.2.0",
      "model_name": "LayoutModel",
      "state": {
       "_model_module": "@jupyter-widgets/base",
       "_model_module_version": "1.2.0",
       "_model_name": "LayoutModel",
       "_view_count": null,
       "_view_module": "@jupyter-widgets/base",
       "_view_module_version": "1.2.0",
       "_view_name": "LayoutView",
       "align_content": null,
       "align_items": null,
       "align_self": null,
       "border": null,
       "bottom": null,
       "display": null,
       "flex": null,
       "flex_flow": null,
       "grid_area": null,
       "grid_auto_columns": null,
       "grid_auto_flow": null,
       "grid_auto_rows": null,
       "grid_column": null,
       "grid_gap": null,
       "grid_row": null,
       "grid_template_areas": null,
       "grid_template_columns": null,
       "grid_template_rows": null,
       "height": null,
       "justify_content": null,
       "justify_items": null,
       "left": null,
       "margin": null,
       "max_height": null,
       "max_width": null,
       "min_height": null,
       "min_width": null,
       "object_fit": null,
       "object_position": null,
       "order": null,
       "overflow": null,
       "overflow_x": null,
       "overflow_y": null,
       "padding": null,
       "right": null,
       "top": null,
       "visibility": null,
       "width": null
      }
     },
     "ffa9395d005f49eb808c1d0a34fccab5": {
      "model_module": "@jupyter-widgets/base",
      "model_module_version": "1.2.0",
      "model_name": "LayoutModel",
      "state": {
       "_model_module": "@jupyter-widgets/base",
       "_model_module_version": "1.2.0",
       "_model_name": "LayoutModel",
       "_view_count": null,
       "_view_module": "@jupyter-widgets/base",
       "_view_module_version": "1.2.0",
       "_view_name": "LayoutView",
       "align_content": null,
       "align_items": null,
       "align_self": null,
       "border": null,
       "bottom": null,
       "display": null,
       "flex": null,
       "flex_flow": null,
       "grid_area": null,
       "grid_auto_columns": null,
       "grid_auto_flow": null,
       "grid_auto_rows": null,
       "grid_column": null,
       "grid_gap": null,
       "grid_row": null,
       "grid_template_areas": null,
       "grid_template_columns": null,
       "grid_template_rows": null,
       "height": null,
       "justify_content": null,
       "justify_items": null,
       "left": null,
       "margin": null,
       "max_height": null,
       "max_width": null,
       "min_height": null,
       "min_width": null,
       "object_fit": null,
       "object_position": null,
       "order": null,
       "overflow": null,
       "overflow_x": null,
       "overflow_y": null,
       "padding": null,
       "right": null,
       "top": null,
       "visibility": null,
       "width": null
      }
     }
    },
    "version_major": 2,
    "version_minor": 0
   }
  }
 },
 "nbformat": 4,
 "nbformat_minor": 5
}
